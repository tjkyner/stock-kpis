{
 "cells": [
  {
   "cell_type": "markdown",
   "metadata": {},
   "source": [
    "# Imports & Settings"
   ]
  },
  {
   "cell_type": "code",
   "execution_count": 1,
   "metadata": {
    "execution": {
     "iopub.execute_input": "2021-08-18T00:51:04.296099Z",
     "iopub.status.busy": "2021-08-18T00:51:04.296099Z",
     "iopub.status.idle": "2021-08-18T00:51:07.140390Z",
     "shell.execute_reply": "2021-08-18T00:51:07.139419Z",
     "shell.execute_reply.started": "2021-08-18T00:51:04.296099Z"
    },
    "tags": []
   },
   "outputs": [],
   "source": [
    "import json\n",
    "import numpy as np\n",
    "import pandas as pd\n",
    "import yfinance as yf\n",
    "import seaborn as sns\n",
    "import matplotlib.pyplot as plt\n",
    "%matplotlib inline"
   ]
  },
  {
   "cell_type": "markdown",
   "metadata": {},
   "source": [
    "# CIKs for S&P 500 Constituents"
   ]
  },
  {
   "cell_type": "code",
   "execution_count": 2,
   "metadata": {
    "execution": {
     "iopub.execute_input": "2021-08-18T00:51:07.141389Z",
     "iopub.status.busy": "2021-08-18T00:51:07.141389Z",
     "iopub.status.idle": "2021-08-18T00:51:07.171389Z",
     "shell.execute_reply": "2021-08-18T00:51:07.170390Z",
     "shell.execute_reply.started": "2021-08-18T00:51:07.141389Z"
    }
   },
   "outputs": [
    {
     "data": {
      "text/html": [
       "<div>\n",
       "<style scoped>\n",
       "    .dataframe tbody tr th:only-of-type {\n",
       "        vertical-align: middle;\n",
       "    }\n",
       "\n",
       "    .dataframe tbody tr th {\n",
       "        vertical-align: top;\n",
       "    }\n",
       "\n",
       "    .dataframe thead th {\n",
       "        text-align: right;\n",
       "    }\n",
       "</style>\n",
       "<table border=\"1\" class=\"dataframe\">\n",
       "  <thead>\n",
       "    <tr style=\"text-align: right;\">\n",
       "      <th></th>\n",
       "      <th>Symbol</th>\n",
       "      <th>Security</th>\n",
       "      <th>SEC filings</th>\n",
       "      <th>GICS Sector</th>\n",
       "      <th>GICS Sub-Industry</th>\n",
       "      <th>Headquarters Location</th>\n",
       "      <th>Date first added</th>\n",
       "      <th>CIK</th>\n",
       "      <th>Founded</th>\n",
       "    </tr>\n",
       "  </thead>\n",
       "  <tbody>\n",
       "    <tr>\n",
       "      <th>0</th>\n",
       "      <td>MMM</td>\n",
       "      <td>3M</td>\n",
       "      <td>reports</td>\n",
       "      <td>Industrials</td>\n",
       "      <td>Industrial Conglomerates</td>\n",
       "      <td>Saint Paul, Minnesota</td>\n",
       "      <td>1976-08-09</td>\n",
       "      <td>0000066740</td>\n",
       "      <td>1902</td>\n",
       "    </tr>\n",
       "    <tr>\n",
       "      <th>1</th>\n",
       "      <td>ABT</td>\n",
       "      <td>Abbott Laboratories</td>\n",
       "      <td>reports</td>\n",
       "      <td>Health Care</td>\n",
       "      <td>Health Care Equipment</td>\n",
       "      <td>North Chicago, Illinois</td>\n",
       "      <td>1964-03-31</td>\n",
       "      <td>0000001800</td>\n",
       "      <td>1888</td>\n",
       "    </tr>\n",
       "    <tr>\n",
       "      <th>2</th>\n",
       "      <td>ABBV</td>\n",
       "      <td>AbbVie</td>\n",
       "      <td>reports</td>\n",
       "      <td>Health Care</td>\n",
       "      <td>Pharmaceuticals</td>\n",
       "      <td>North Chicago, Illinois</td>\n",
       "      <td>2012-12-31</td>\n",
       "      <td>0001551152</td>\n",
       "      <td>2013 (1888)</td>\n",
       "    </tr>\n",
       "    <tr>\n",
       "      <th>3</th>\n",
       "      <td>ABMD</td>\n",
       "      <td>Abiomed</td>\n",
       "      <td>reports</td>\n",
       "      <td>Health Care</td>\n",
       "      <td>Health Care Equipment</td>\n",
       "      <td>Danvers, Massachusetts</td>\n",
       "      <td>2018-05-31</td>\n",
       "      <td>0000815094</td>\n",
       "      <td>1981</td>\n",
       "    </tr>\n",
       "    <tr>\n",
       "      <th>4</th>\n",
       "      <td>ACN</td>\n",
       "      <td>Accenture</td>\n",
       "      <td>reports</td>\n",
       "      <td>Information Technology</td>\n",
       "      <td>IT Consulting &amp; Other Services</td>\n",
       "      <td>Dublin, Ireland</td>\n",
       "      <td>2011-07-06</td>\n",
       "      <td>0001467373</td>\n",
       "      <td>1989</td>\n",
       "    </tr>\n",
       "  </tbody>\n",
       "</table>\n",
       "</div>"
      ],
      "text/plain": [
       "  Symbol             Security SEC filings             GICS Sector  \\\n",
       "0    MMM                   3M     reports             Industrials   \n",
       "1    ABT  Abbott Laboratories     reports             Health Care   \n",
       "2   ABBV               AbbVie     reports             Health Care   \n",
       "3   ABMD              Abiomed     reports             Health Care   \n",
       "4    ACN            Accenture     reports  Information Technology   \n",
       "\n",
       "                GICS Sub-Industry    Headquarters Location Date first added  \\\n",
       "0        Industrial Conglomerates    Saint Paul, Minnesota       1976-08-09   \n",
       "1           Health Care Equipment  North Chicago, Illinois       1964-03-31   \n",
       "2                 Pharmaceuticals  North Chicago, Illinois       2012-12-31   \n",
       "3           Health Care Equipment   Danvers, Massachusetts       2018-05-31   \n",
       "4  IT Consulting & Other Services          Dublin, Ireland       2011-07-06   \n",
       "\n",
       "          CIK      Founded  \n",
       "0  0000066740         1902  \n",
       "1  0000001800         1888  \n",
       "2  0001551152  2013 (1888)  \n",
       "3  0000815094         1981  \n",
       "4  0001467373         1989  "
      ]
     },
     "execution_count": 2,
     "metadata": {},
     "output_type": "execute_result"
    }
   ],
   "source": [
    "df = pd.read_csv('data/sp500_ciks.csv', dtype=str)\n",
    "df.head()"
   ]
  },
  {
   "cell_type": "code",
   "execution_count": 3,
   "metadata": {
    "execution": {
     "iopub.execute_input": "2021-08-18T00:51:07.173390Z",
     "iopub.status.busy": "2021-08-18T00:51:07.172389Z",
     "iopub.status.idle": "2021-08-18T00:51:07.187391Z",
     "shell.execute_reply": "2021-08-18T00:51:07.185433Z",
     "shell.execute_reply.started": "2021-08-18T00:51:07.173390Z"
    },
    "tags": []
   },
   "outputs": [
    {
     "data": {
      "text/plain": [
       "(505, 9)"
      ]
     },
     "execution_count": 3,
     "metadata": {},
     "output_type": "execute_result"
    }
   ],
   "source": [
    "df.shape"
   ]
  },
  {
   "cell_type": "markdown",
   "metadata": {},
   "source": [
    "# Plotting a Concept for a Given Company"
   ]
  },
  {
   "cell_type": "code",
   "execution_count": 4,
   "metadata": {
    "execution": {
     "iopub.execute_input": "2021-08-18T00:51:07.188392Z",
     "iopub.status.busy": "2021-08-18T00:51:07.188392Z",
     "iopub.status.idle": "2021-08-18T00:51:07.201389Z",
     "shell.execute_reply": "2021-08-18T00:51:07.200390Z",
     "shell.execute_reply.started": "2021-08-18T00:51:07.188392Z"
    }
   },
   "outputs": [],
   "source": [
    "def get_company_cik(ticker):\n",
    "    return df.loc[df.Symbol == ticker, 'CIK'].values[0]"
   ]
  },
  {
   "cell_type": "code",
   "execution_count": 5,
   "metadata": {
    "execution": {
     "iopub.execute_input": "2021-08-18T00:51:07.203391Z",
     "iopub.status.busy": "2021-08-18T00:51:07.202390Z",
     "iopub.status.idle": "2021-08-18T00:51:07.217389Z",
     "shell.execute_reply": "2021-08-18T00:51:07.216391Z",
     "shell.execute_reply.started": "2021-08-18T00:51:07.203391Z"
    }
   },
   "outputs": [],
   "source": [
    "def get_company_facts(ticker):\n",
    "    cik = get_company_cik(ticker)\n",
    "    with open(f'data/sec_bulk_data/CIK{cik}.json') as f:\n",
    "        facts = json.load(f)\n",
    "    return facts"
   ]
  },
  {
   "cell_type": "code",
   "execution_count": 6,
   "metadata": {
    "execution": {
     "iopub.execute_input": "2021-08-18T00:51:07.218389Z",
     "iopub.status.busy": "2021-08-18T00:51:07.217389Z",
     "iopub.status.idle": "2021-08-18T00:51:07.232391Z",
     "shell.execute_reply": "2021-08-18T00:51:07.231390Z",
     "shell.execute_reply.started": "2021-08-18T00:51:07.218389Z"
    }
   },
   "outputs": [],
   "source": [
    "def get_company_concepts(ticker):\n",
    "    facts = get_company_facts(ticker)\n",
    "    return facts['facts']['us-gaap'].keys()"
   ]
  },
  {
   "cell_type": "code",
   "execution_count": 7,
   "metadata": {
    "execution": {
     "iopub.execute_input": "2021-08-18T00:51:07.233389Z",
     "iopub.status.busy": "2021-08-18T00:51:07.233389Z",
     "iopub.status.idle": "2021-08-18T00:51:07.248390Z",
     "shell.execute_reply": "2021-08-18T00:51:07.247425Z",
     "shell.execute_reply.started": "2021-08-18T00:51:07.233389Z"
    }
   },
   "outputs": [],
   "source": [
    "def get_concept_description(ticker, concept, label=False):\n",
    "    facts = get_company_facts(ticker)\n",
    "    concept = facts['facts']['us-gaap'][concept]\n",
    "    try:\n",
    "        if label:\n",
    "            return concept['label'], concept['description']\n",
    "        return concept['description']\n",
    "    except KeyError as e:\n",
    "        print(f'KeyError: The specified company does not have a concept of \\'{concept}\\'')"
   ]
  },
  {
   "cell_type": "code",
   "execution_count": 123,
   "metadata": {
    "execution": {
     "iopub.execute_input": "2021-08-18T03:12:50.436911Z",
     "iopub.status.busy": "2021-08-18T03:12:50.436911Z",
     "iopub.status.idle": "2021-08-18T03:12:50.454911Z",
     "shell.execute_reply": "2021-08-18T03:12:50.453941Z",
     "shell.execute_reply.started": "2021-08-18T03:12:50.436911Z"
    },
    "tags": []
   },
   "outputs": [],
   "source": [
    "def get_concept_values(ticker, concept, frame_only=True, frame_filter='Q', as_df=False):\n",
    "    facts = get_company_facts(ticker)\n",
    "    concept_values = facts['facts']['us-gaap'][concept]['units']['USD']\n",
    "    \n",
    "    if frame_only:\n",
    "        concept_values = [item for item in concept_values if 'frame' in item.keys()]\n",
    "        concept_values = [item for item in concept_values if frame_filter in item['frame']]\n",
    "    \n",
    "    if as_df:\n",
    "        df = pd.DataFrame(data={concept: [item['val'] for item in concept_values]},\n",
    "                          index=[pd.to_datetime(item['end']) for item in concept_values])\n",
    "        df.sort_index(ascending=True, inplace=True)\n",
    "        return df\n",
    "    \n",
    "    return concept_values"
   ]
  },
  {
   "cell_type": "code",
   "execution_count": 9,
   "metadata": {
    "execution": {
     "iopub.execute_input": "2021-08-18T00:51:07.264395Z",
     "iopub.status.busy": "2021-08-18T00:51:07.264395Z",
     "iopub.status.idle": "2021-08-18T00:51:07.278389Z",
     "shell.execute_reply": "2021-08-18T00:51:07.277421Z",
     "shell.execute_reply.started": "2021-08-18T00:51:07.264395Z"
    }
   },
   "outputs": [],
   "source": [
    "def plot_concept(ticker, concept):\n",
    "    # Storing the data in a dataframe for easier plotting\n",
    "    concept_values = get_concept_values(ticker, concept)\n",
    "    df = pd.DataFrame({'Date': [pd.to_datetime(item['end']) for item in concept_values],\n",
    "                       'Frame': [item['frame'] for item in concept_values],\n",
    "                       concept: [item['val'] for item in concept_values]})\n",
    "    \n",
    "    # Changing format of the Frame column\n",
    "    def frame_format(x):\n",
    "        q = x[x.index('Q'):x.index('Q')+2]\n",
    "        y = x[4:6]\n",
    "        return f\"{q}'{y}\"\n",
    "    df.Frame = df.Frame.apply(frame_format)\n",
    "    \n",
    "    # Plotting\n",
    "    sns.barplot(data=df, x='Date', y=concept, color='#00b894')\n",
    "    sns.despine()\n",
    "    plt.title(f'{ticker} - {concept}', fontweight='bold')\n",
    "    plt.xticks(ticks=np.arange(0, len(df), 4), labels=df.Frame[::4])"
   ]
  },
  {
   "cell_type": "code",
   "execution_count": 10,
   "metadata": {
    "execution": {
     "iopub.execute_input": "2021-08-18T00:51:07.279390Z",
     "iopub.status.busy": "2021-08-18T00:51:07.279390Z",
     "iopub.status.idle": "2021-08-18T00:51:07.755566Z",
     "shell.execute_reply": "2021-08-18T00:51:07.755566Z",
     "shell.execute_reply.started": "2021-08-18T00:51:07.279390Z"
    },
    "tags": []
   },
   "outputs": [
    {
     "data": {
      "image/png": "[encoded data removed]",
      "text/plain": [
       "<Figure size 1008x504 with 1 Axes>"
      ]
     },
     "metadata": {
      "needs_background": "light"
     },
     "output_type": "display_data"
    }
   ],
   "source": [
    "fig = plt.figure(figsize=(14, 7))\n",
    "plot_concept('MSFT', 'Liabilities')"
   ]
  },
  {
   "cell_type": "markdown",
   "metadata": {},
   "source": [
    "# Retrieving Price Histories\n",
    "## Downloading Data"
   ]
  },
  {
   "cell_type": "code",
   "execution_count": 11,
   "metadata": {
    "execution": {
     "iopub.execute_input": "2021-08-18T00:51:07.758566Z",
     "iopub.status.busy": "2021-08-18T00:51:07.757537Z",
     "iopub.status.idle": "2021-08-18T00:52:02.152199Z",
     "shell.execute_reply": "2021-08-18T00:52:02.152199Z",
     "shell.execute_reply.started": "2021-08-18T00:51:07.758566Z"
    },
    "tags": []
   },
   "outputs": [
    {
     "name": "stdout",
     "output_type": "stream",
     "text": [
      "[*********************100%***********************]  505 of 505 completed\n",
      "\n",
      "1 Failed download:\n",
      "- BF.B: 1d data not available for startTime=-2208988800 and endTime=1629247883. Only 100 years worth of day granularity data are allowed to be fetched per request.\n"
     ]
    }
   ],
   "source": [
    "data = yf.download(tickers=df.Symbol.values.tolist(),\n",
    "                   period='max',\n",
    "                   group_by='ticker')"
   ]
  },
  {
   "cell_type": "markdown",
   "metadata": {},
   "source": [
    "It appears that the ticker `BF.B` failed. The '.B' portion of the ticker refers to share class. Referencing the share class in a ticker is not fully standardized across different financial sources and can sometimes be represented as a hyphen instead of a period. I will try to download the data for `BF.B` by manually changing it to `BF-B` instead."
   ]
  },
  {
   "cell_type": "code",
   "execution_count": 12,
   "metadata": {
    "execution": {
     "iopub.execute_input": "2021-08-18T00:52:02.154228Z",
     "iopub.status.busy": "2021-08-18T00:52:02.153228Z",
     "iopub.status.idle": "2021-08-18T00:52:02.988060Z",
     "shell.execute_reply": "2021-08-18T00:52:02.987092Z",
     "shell.execute_reply.started": "2021-08-18T00:52:02.154228Z"
    },
    "tags": []
   },
   "outputs": [
    {
     "name": "stdout",
     "output_type": "stream",
     "text": [
      "[*********************100%***********************]  1 of 1 completed\n"
     ]
    },
    {
     "data": {
      "text/html": [
       "<div>\n",
       "<style scoped>\n",
       "    .dataframe tbody tr th:only-of-type {\n",
       "        vertical-align: middle;\n",
       "    }\n",
       "\n",
       "    .dataframe tbody tr th {\n",
       "        vertical-align: top;\n",
       "    }\n",
       "\n",
       "    .dataframe thead th {\n",
       "        text-align: right;\n",
       "    }\n",
       "</style>\n",
       "<table border=\"1\" class=\"dataframe\">\n",
       "  <thead>\n",
       "    <tr style=\"text-align: right;\">\n",
       "      <th></th>\n",
       "      <th>Open</th>\n",
       "      <th>High</th>\n",
       "      <th>Low</th>\n",
       "      <th>Close</th>\n",
       "      <th>Adj Close</th>\n",
       "      <th>Volume</th>\n",
       "    </tr>\n",
       "    <tr>\n",
       "      <th>Date</th>\n",
       "      <th></th>\n",
       "      <th></th>\n",
       "      <th></th>\n",
       "      <th></th>\n",
       "      <th></th>\n",
       "      <th></th>\n",
       "    </tr>\n",
       "  </thead>\n",
       "  <tbody>\n",
       "    <tr>\n",
       "      <th>1980-03-17</th>\n",
       "      <td>0.0</td>\n",
       "      <td>0.447407</td>\n",
       "      <td>0.442963</td>\n",
       "      <td>0.442963</td>\n",
       "      <td>0.204822</td>\n",
       "      <td>202500</td>\n",
       "    </tr>\n",
       "    <tr>\n",
       "      <th>1980-03-18</th>\n",
       "      <td>0.0</td>\n",
       "      <td>0.442963</td>\n",
       "      <td>0.442963</td>\n",
       "      <td>0.442963</td>\n",
       "      <td>0.204822</td>\n",
       "      <td>84375</td>\n",
       "    </tr>\n",
       "    <tr>\n",
       "      <th>1980-03-19</th>\n",
       "      <td>0.0</td>\n",
       "      <td>0.448889</td>\n",
       "      <td>0.442963</td>\n",
       "      <td>0.448889</td>\n",
       "      <td>0.207562</td>\n",
       "      <td>329063</td>\n",
       "    </tr>\n",
       "    <tr>\n",
       "      <th>1980-03-20</th>\n",
       "      <td>0.0</td>\n",
       "      <td>0.450370</td>\n",
       "      <td>0.447407</td>\n",
       "      <td>0.450370</td>\n",
       "      <td>0.208247</td>\n",
       "      <td>354375</td>\n",
       "    </tr>\n",
       "    <tr>\n",
       "      <th>1980-03-21</th>\n",
       "      <td>0.0</td>\n",
       "      <td>0.450370</td>\n",
       "      <td>0.438519</td>\n",
       "      <td>0.444444</td>\n",
       "      <td>0.205507</td>\n",
       "      <td>2910938</td>\n",
       "    </tr>\n",
       "  </tbody>\n",
       "</table>\n",
       "</div>"
      ],
      "text/plain": [
       "            Open      High       Low     Close  Adj Close   Volume\n",
       "Date                                                              \n",
       "1980-03-17   0.0  0.447407  0.442963  0.442963   0.204822   202500\n",
       "1980-03-18   0.0  0.442963  0.442963  0.442963   0.204822    84375\n",
       "1980-03-19   0.0  0.448889  0.442963  0.448889   0.207562   329063\n",
       "1980-03-20   0.0  0.450370  0.447407  0.450370   0.208247   354375\n",
       "1980-03-21   0.0  0.450370  0.438519  0.444444   0.205507  2910938"
      ]
     },
     "execution_count": 12,
     "metadata": {},
     "output_type": "execute_result"
    }
   ],
   "source": [
    "bfb = yf.download(tickers='BF-B', period='max')\n",
    "bfb.head()"
   ]
  },
  {
   "cell_type": "code",
   "execution_count": 13,
   "metadata": {
    "execution": {
     "iopub.execute_input": "2021-08-18T00:52:02.989061Z",
     "iopub.status.busy": "2021-08-18T00:52:02.989061Z",
     "iopub.status.idle": "2021-08-18T00:52:03.004101Z",
     "shell.execute_reply": "2021-08-18T00:52:03.003135Z",
     "shell.execute_reply.started": "2021-08-18T00:52:02.989061Z"
    },
    "tags": []
   },
   "outputs": [
    {
     "data": {
      "text/plain": [
       "(15011, 3030)"
      ]
     },
     "execution_count": 13,
     "metadata": {},
     "output_type": "execute_result"
    }
   ],
   "source": [
    "data.shape"
   ]
  },
  {
   "cell_type": "code",
   "execution_count": 14,
   "metadata": {
    "execution": {
     "iopub.execute_input": "2021-08-18T00:52:03.005102Z",
     "iopub.status.busy": "2021-08-18T00:52:03.005102Z",
     "iopub.status.idle": "2021-08-18T00:52:03.020103Z",
     "shell.execute_reply": "2021-08-18T00:52:03.019101Z",
     "shell.execute_reply.started": "2021-08-18T00:52:03.005102Z"
    },
    "tags": []
   },
   "outputs": [
    {
     "data": {
      "text/plain": [
       "MultiIndex([('MRNA',      'Open'),\n",
       "            ('MRNA',      'High'),\n",
       "            ('MRNA',       'Low'),\n",
       "            ('MRNA',     'Close'),\n",
       "            ('MRNA', 'Adj Close'),\n",
       "            ('MRNA',    'Volume'),\n",
       "            ( 'VTR',      'Open'),\n",
       "            ( 'VTR',      'High'),\n",
       "            ( 'VTR',       'Low'),\n",
       "            ( 'VTR',     'Close'),\n",
       "            ...\n",
       "            ( 'SYK',       'Low'),\n",
       "            ( 'SYK',     'Close'),\n",
       "            ( 'SYK', 'Adj Close'),\n",
       "            ( 'SYK',    'Volume'),\n",
       "            ('FITB',      'Open'),\n",
       "            ('FITB',      'High'),\n",
       "            ('FITB',       'Low'),\n",
       "            ('FITB',     'Close'),\n",
       "            ('FITB', 'Adj Close'),\n",
       "            ('FITB',    'Volume')],\n",
       "           length=3030)"
      ]
     },
     "execution_count": 14,
     "metadata": {},
     "output_type": "execute_result"
    }
   ],
   "source": [
    "data.columns"
   ]
  },
  {
   "cell_type": "markdown",
   "metadata": {},
   "source": [
    "## Exporting Individual Histories\n",
    "The data returned by the `yfinance.download()` function placed everything into a single dataframe with columns grouped by ticker. While useful for quickly analyzing / plotting any of the companies' histories, there are two primary issues with having everything in one dataframe:\n",
    "- The file is much larger than the 100MB limit imposed by GitHub. While solutions for handling large file uploads exist, it's preferable to avoid such workarounds unless absolutely needed.\n",
    "- Thinking forward to the interactive dashboard portion of this project, loading in all of the price history data for every company in the S&P 500 whenever we want to analyze just one is a waste of resources and will likely lead to unwanted load times.\n",
    "\n",
    "By splitting the data up into individual files, both of these issues are resolved. To start, I'll export the `BF.B` / `BF-B` dataframe and then move on to looping over all of the others."
   ]
  },
  {
   "cell_type": "code",
   "execution_count": 15,
   "metadata": {
    "execution": {
     "iopub.execute_input": "2021-08-18T00:52:03.021102Z",
     "iopub.status.busy": "2021-08-18T00:52:03.021102Z",
     "iopub.status.idle": "2021-08-18T00:52:03.207477Z",
     "shell.execute_reply": "2021-08-18T00:52:03.206509Z",
     "shell.execute_reply.started": "2021-08-18T00:52:03.021102Z"
    },
    "tags": []
   },
   "outputs": [
    {
     "name": "stdout",
     "output_type": "stream",
     "text": [
      "Successfully saved BF-B's history.\n"
     ]
    }
   ],
   "source": [
    "bfb.to_csv('data/price_histories/BF-B_history.csv')\n",
    "print('Successfully saved BF-B\\'s history.')"
   ]
  },
  {
   "cell_type": "code",
   "execution_count": 16,
   "metadata": {
    "execution": {
     "iopub.execute_input": "2021-08-18T00:52:03.209479Z",
     "iopub.status.busy": "2021-08-18T00:52:03.208477Z",
     "iopub.status.idle": "2021-08-18T00:53:11.362911Z",
     "shell.execute_reply": "2021-08-18T00:53:11.361916Z",
     "shell.execute_reply.started": "2021-08-18T00:52:03.209479Z"
    },
    "tags": []
   },
   "outputs": [
    {
     "name": "stdout",
     "output_type": "stream",
     "text": [
      "505 / 505 completed\r"
     ]
    }
   ],
   "source": [
    "tickers = df.Symbol.values.tolist()\n",
    "for i, ticker in enumerate(tickers):\n",
    "    if ticker == 'BF.B':\n",
    "        continue\n",
    "    df_temp = data[ticker].dropna()\n",
    "    df_temp.to_csv(f'data/price_histories/{ticker}_history.csv')\n",
    "    print(f'{i+1} / {len(tickers)} completed', end='\\r')"
   ]
  },
  {
   "cell_type": "markdown",
   "metadata": {},
   "source": [
    "# Exploring Concepts and Prices\n",
    "The idea of regressing certain pieces of fundamental data for a given company against its share price is at the core of this project. The function below allows for plotting a quick scatterplot for a given company's share price and any one of its concepts listed in the output of calling `get_company_concepts()` with its ticker as an argument."
   ]
  },
  {
   "cell_type": "code",
   "execution_count": 75,
   "metadata": {
    "execution": {
     "iopub.execute_input": "2021-08-18T01:53:35.196639Z",
     "iopub.status.busy": "2021-08-18T01:53:35.196639Z",
     "iopub.status.idle": "2021-08-18T01:53:35.210642Z",
     "shell.execute_reply": "2021-08-18T01:53:35.209641Z",
     "shell.execute_reply.started": "2021-08-18T01:53:35.196639Z"
    },
    "tags": []
   },
   "outputs": [],
   "source": [
    "def plot_scatter(ticker, concept, adjusted_price=False):\n",
    "    df_concept = get_concept_values(ticker, concept, as_df=True)\n",
    "    df_price = pd.read_csv(f'data/price_histories/{ticker}_history.csv',\n",
    "                           index_col='Date',\n",
    "                           parse_dates=['Date'])\n",
    "    \n",
    "    target_col = 'Close' if not adjusted_price else 'Adj Close'\n",
    "    df_price = df_price[[target_col]]\n",
    "        \n",
    "    df_merged = pd.merge_asof(left=df_concept,\n",
    "                              right=df_price, \n",
    "                              left_index=True, \n",
    "                              right_index=True)\n",
    "    \n",
    "    sns.scatterplot(x=concept,\n",
    "                    y=target_col,\n",
    "                    data=df_merged)\n",
    "    plt.title(f'{ticker} - {concept} vs {target_col}')"
   ]
  },
  {
   "cell_type": "code",
   "execution_count": 135,
   "metadata": {
    "execution": {
     "iopub.execute_input": "2021-08-18T03:20:09.804537Z",
     "iopub.status.busy": "2021-08-18T03:20:09.804537Z",
     "iopub.status.idle": "2021-08-18T03:20:10.182532Z",
     "shell.execute_reply": "2021-08-18T03:20:10.181504Z",
     "shell.execute_reply.started": "2021-08-18T03:20:09.804537Z"
    },
    "tags": []
   },
   "outputs": [
    {
     "data": {
      "image/png": "[encoded data removed]",
      "text/plain": [
       "<Figure size 432x288 with 1 Axes>"
      ]
     },
     "metadata": {
      "needs_background": "light"
     },
     "output_type": "display_data"
    }
   ],
   "source": [
    "plot_scatter('MSFT', 'Assets')"
   ]
  },
  {
   "cell_type": "code",
   "execution_count": 136,
   "metadata": {
    "execution": {
     "iopub.execute_input": "2021-08-18T03:24:36.261329Z",
     "iopub.status.busy": "2021-08-18T03:24:36.261329Z",
     "iopub.status.idle": "2021-08-18T03:24:36.501367Z",
     "shell.execute_reply": "2021-08-18T03:24:36.500398Z",
     "shell.execute_reply.started": "2021-08-18T03:24:36.261329Z"
    },
    "tags": []
   },
   "outputs": [
    {
     "data": {
      "image/png": "[encoded data removed]",
      "text/plain": [
       "<Figure size 432x288 with 1 Axes>"
      ]
     },
     "metadata": {
      "needs_background": "light"
     },
     "output_type": "display_data"
    }
   ],
   "source": [
    "plot_scatter('AAPL', 'Assets')"
   ]
  },
  {
   "cell_type": "code",
   "execution_count": 137,
   "metadata": {
    "execution": {
     "iopub.execute_input": "2021-08-18T03:25:08.185704Z",
     "iopub.status.busy": "2021-08-18T03:25:08.184706Z",
     "iopub.status.idle": "2021-08-18T03:25:08.448203Z",
     "shell.execute_reply": "2021-08-18T03:25:08.447231Z",
     "shell.execute_reply.started": "2021-08-18T03:25:08.185704Z"
    },
    "tags": []
   },
   "outputs": [
    {
     "data": {
      "image/png": "[encoded data removed]",
      "text/plain": [
       "<Figure size 432x288 with 1 Axes>"
      ]
     },
     "metadata": {
      "needs_background": "light"
     },
     "output_type": "display_data"
    }
   ],
   "source": [
    "plot_scatter('GOOGL', 'Assets')"
   ]
  }
 ],
 "metadata": {
  "kernelspec": {
   "display_name": "learn-env",
   "language": "python",
   "name": "learn-env"
  },
  "language_info": {
   "codemirror_mode": {
    "name": "ipython",
    "version": 3
   },
   "file_extension": ".py",
   "mimetype": "text/x-python",
   "name": "python",
   "nbconvert_exporter": "python",
   "pygments_lexer": "ipython3",
   "version": "3.8.5"
  }
 },
 "nbformat": 4,
 "nbformat_minor": 4
}
