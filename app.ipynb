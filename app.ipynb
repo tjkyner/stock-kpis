{
 "cells": [
  {
   "cell_type": "markdown",
   "metadata": {},
   "source": [
    "# Imports & Settings"
   ]
  },
  {
   "cell_type": "code",
   "execution_count": 1,
   "metadata": {
    "execution": {
     "iopub.execute_input": "2021-08-30T01:28:49.395885Z",
     "iopub.status.busy": "2021-08-30T01:28:49.394877Z",
     "iopub.status.idle": "2021-08-30T01:28:54.176605Z",
     "shell.execute_reply": "2021-08-30T01:28:54.176605Z",
     "shell.execute_reply.started": "2021-08-30T01:28:49.395885Z"
    },
    "tags": []
   },
   "outputs": [],
   "source": [
    "# Core tools\n",
    "import joblib\n",
    "import pandas as pd\n",
    "\n",
    "# Explainer Dashboard\n",
    "from explainerdashboard.custom import *\n",
    "from explainerdashboard import RegressionExplainer, ExplainerDashboard"
   ]
  },
  {
   "cell_type": "markdown",
   "metadata": {},
   "source": [
    "# Setting Ticker\n",
    "Until functionality is built directly into the dashboard for switching between companies, the ticker to be analyzed will need to be manually specified here."
   ]
  },
  {
   "cell_type": "code",
   "execution_count": 3,
   "metadata": {
    "execution": {
     "iopub.execute_input": "2021-08-30T01:28:54.194566Z",
     "iopub.status.busy": "2021-08-30T01:28:54.193564Z",
     "iopub.status.idle": "2021-08-30T01:28:54.208566Z",
     "shell.execute_reply": "2021-08-30T01:28:54.208566Z",
     "shell.execute_reply.started": "2021-08-30T01:28:54.194566Z"
    },
    "tags": []
   },
   "outputs": [],
   "source": [
    "ticker = 'MSFT'"
   ]
  },
  {
   "cell_type": "markdown",
   "metadata": {},
   "source": [
    "# Loading S&P 500 Data"
   ]
  },
  {
   "cell_type": "code",
   "execution_count": 34,
   "metadata": {
    "execution": {
     "iopub.execute_input": "2021-08-30T01:53:47.033016Z",
     "iopub.status.busy": "2021-08-30T01:53:47.033016Z",
     "iopub.status.idle": "2021-08-30T01:53:47.061015Z",
     "shell.execute_reply": "2021-08-30T01:53:47.060045Z",
     "shell.execute_reply.started": "2021-08-30T01:53:47.033016Z"
    },
    "tags": []
   },
   "outputs": [
    {
     "data": {
      "text/html": [
       "<div>\n",
       "<style scoped>\n",
       "    .dataframe tbody tr th:only-of-type {\n",
       "        vertical-align: middle;\n",
       "    }\n",
       "\n",
       "    .dataframe tbody tr th {\n",
       "        vertical-align: top;\n",
       "    }\n",
       "\n",
       "    .dataframe thead th {\n",
       "        text-align: right;\n",
       "    }\n",
       "</style>\n",
       "<table border=\"1\" class=\"dataframe\">\n",
       "  <thead>\n",
       "    <tr style=\"text-align: right;\">\n",
       "      <th></th>\n",
       "      <th>Symbol</th>\n",
       "      <th>Security</th>\n",
       "      <th>SEC filings</th>\n",
       "      <th>GICS Sector</th>\n",
       "      <th>GICS Sub-Industry</th>\n",
       "      <th>Headquarters Location</th>\n",
       "      <th>Date first added</th>\n",
       "      <th>CIK</th>\n",
       "      <th>Founded</th>\n",
       "    </tr>\n",
       "  </thead>\n",
       "  <tbody>\n",
       "    <tr>\n",
       "      <th>0</th>\n",
       "      <td>MMM</td>\n",
       "      <td>3M</td>\n",
       "      <td>reports</td>\n",
       "      <td>Industrials</td>\n",
       "      <td>Industrial Conglomerates</td>\n",
       "      <td>Saint Paul, Minnesota</td>\n",
       "      <td>1976-08-09</td>\n",
       "      <td>66740</td>\n",
       "      <td>1902</td>\n",
       "    </tr>\n",
       "    <tr>\n",
       "      <th>1</th>\n",
       "      <td>ABT</td>\n",
       "      <td>Abbott Laboratories</td>\n",
       "      <td>reports</td>\n",
       "      <td>Health Care</td>\n",
       "      <td>Health Care Equipment</td>\n",
       "      <td>North Chicago, Illinois</td>\n",
       "      <td>1964-03-31</td>\n",
       "      <td>1800</td>\n",
       "      <td>1888</td>\n",
       "    </tr>\n",
       "    <tr>\n",
       "      <th>2</th>\n",
       "      <td>ABBV</td>\n",
       "      <td>AbbVie</td>\n",
       "      <td>reports</td>\n",
       "      <td>Health Care</td>\n",
       "      <td>Pharmaceuticals</td>\n",
       "      <td>North Chicago, Illinois</td>\n",
       "      <td>2012-12-31</td>\n",
       "      <td>1551152</td>\n",
       "      <td>2013 (1888)</td>\n",
       "    </tr>\n",
       "    <tr>\n",
       "      <th>3</th>\n",
       "      <td>ABMD</td>\n",
       "      <td>Abiomed</td>\n",
       "      <td>reports</td>\n",
       "      <td>Health Care</td>\n",
       "      <td>Health Care Equipment</td>\n",
       "      <td>Danvers, Massachusetts</td>\n",
       "      <td>2018-05-31</td>\n",
       "      <td>815094</td>\n",
       "      <td>1981</td>\n",
       "    </tr>\n",
       "    <tr>\n",
       "      <th>4</th>\n",
       "      <td>ACN</td>\n",
       "      <td>Accenture</td>\n",
       "      <td>reports</td>\n",
       "      <td>Information Technology</td>\n",
       "      <td>IT Consulting &amp; Other Services</td>\n",
       "      <td>Dublin, Ireland</td>\n",
       "      <td>2011-07-06</td>\n",
       "      <td>1467373</td>\n",
       "      <td>1989</td>\n",
       "    </tr>\n",
       "  </tbody>\n",
       "</table>\n",
       "</div>"
      ],
      "text/plain": [
       "  Symbol             Security SEC filings             GICS Sector  \\\n",
       "0    MMM                   3M     reports             Industrials   \n",
       "1    ABT  Abbott Laboratories     reports             Health Care   \n",
       "2   ABBV               AbbVie     reports             Health Care   \n",
       "3   ABMD              Abiomed     reports             Health Care   \n",
       "4    ACN            Accenture     reports  Information Technology   \n",
       "\n",
       "                GICS Sub-Industry    Headquarters Location Date first added  \\\n",
       "0        Industrial Conglomerates    Saint Paul, Minnesota       1976-08-09   \n",
       "1           Health Care Equipment  North Chicago, Illinois       1964-03-31   \n",
       "2                 Pharmaceuticals  North Chicago, Illinois       2012-12-31   \n",
       "3           Health Care Equipment   Danvers, Massachusetts       2018-05-31   \n",
       "4  IT Consulting & Other Services          Dublin, Ireland       2011-07-06   \n",
       "\n",
       "       CIK      Founded  \n",
       "0    66740         1902  \n",
       "1     1800         1888  \n",
       "2  1551152  2013 (1888)  \n",
       "3   815094         1981  \n",
       "4  1467373         1989  "
      ]
     },
     "execution_count": 34,
     "metadata": {},
     "output_type": "execute_result"
    }
   ],
   "source": [
    "snp = pd.read_csv('data/sp500.csv')\n",
    "snp.head()"
   ]
  },
  {
   "cell_type": "markdown",
   "metadata": {},
   "source": [
    "# Loading Price History Data"
   ]
  },
  {
   "cell_type": "code",
   "execution_count": 33,
   "metadata": {
    "execution": {
     "iopub.execute_input": "2021-08-30T01:53:41.516428Z",
     "iopub.status.busy": "2021-08-30T01:53:41.516428Z",
     "iopub.status.idle": "2021-08-30T01:53:41.588469Z",
     "shell.execute_reply": "2021-08-30T01:53:41.588469Z",
     "shell.execute_reply.started": "2021-08-30T01:53:41.516428Z"
    },
    "tags": []
   },
   "outputs": [
    {
     "data": {
      "text/html": [
       "<div>\n",
       "<style scoped>\n",
       "    .dataframe tbody tr th:only-of-type {\n",
       "        vertical-align: middle;\n",
       "    }\n",
       "\n",
       "    .dataframe tbody tr th {\n",
       "        vertical-align: top;\n",
       "    }\n",
       "\n",
       "    .dataframe thead th {\n",
       "        text-align: right;\n",
       "    }\n",
       "</style>\n",
       "<table border=\"1\" class=\"dataframe\">\n",
       "  <thead>\n",
       "    <tr style=\"text-align: right;\">\n",
       "      <th></th>\n",
       "      <th>Open</th>\n",
       "      <th>High</th>\n",
       "      <th>Low</th>\n",
       "      <th>Close</th>\n",
       "      <th>Adj Close</th>\n",
       "      <th>Volume</th>\n",
       "    </tr>\n",
       "    <tr>\n",
       "      <th>Date</th>\n",
       "      <th></th>\n",
       "      <th></th>\n",
       "      <th></th>\n",
       "      <th></th>\n",
       "      <th></th>\n",
       "      <th></th>\n",
       "    </tr>\n",
       "  </thead>\n",
       "  <tbody>\n",
       "    <tr>\n",
       "      <th>1986-03-13</th>\n",
       "      <td>0.088542</td>\n",
       "      <td>0.101563</td>\n",
       "      <td>0.088542</td>\n",
       "      <td>0.097222</td>\n",
       "      <td>0.061491</td>\n",
       "      <td>1.031789e+09</td>\n",
       "    </tr>\n",
       "    <tr>\n",
       "      <th>1986-03-14</th>\n",
       "      <td>0.097222</td>\n",
       "      <td>0.102431</td>\n",
       "      <td>0.097222</td>\n",
       "      <td>0.100694</td>\n",
       "      <td>0.063687</td>\n",
       "      <td>3.081600e+08</td>\n",
       "    </tr>\n",
       "    <tr>\n",
       "      <th>1986-03-17</th>\n",
       "      <td>0.100694</td>\n",
       "      <td>0.103299</td>\n",
       "      <td>0.100694</td>\n",
       "      <td>0.102431</td>\n",
       "      <td>0.064785</td>\n",
       "      <td>1.331712e+08</td>\n",
       "    </tr>\n",
       "    <tr>\n",
       "      <th>1986-03-18</th>\n",
       "      <td>0.102431</td>\n",
       "      <td>0.103299</td>\n",
       "      <td>0.098958</td>\n",
       "      <td>0.099826</td>\n",
       "      <td>0.063138</td>\n",
       "      <td>6.776640e+07</td>\n",
       "    </tr>\n",
       "    <tr>\n",
       "      <th>1986-03-19</th>\n",
       "      <td>0.099826</td>\n",
       "      <td>0.100694</td>\n",
       "      <td>0.097222</td>\n",
       "      <td>0.098090</td>\n",
       "      <td>0.062040</td>\n",
       "      <td>4.789440e+07</td>\n",
       "    </tr>\n",
       "  </tbody>\n",
       "</table>\n",
       "</div>"
      ],
      "text/plain": [
       "                Open      High       Low     Close  Adj Close        Volume\n",
       "Date                                                                       \n",
       "1986-03-13  0.088542  0.101563  0.088542  0.097222   0.061491  1.031789e+09\n",
       "1986-03-14  0.097222  0.102431  0.097222  0.100694   0.063687  3.081600e+08\n",
       "1986-03-17  0.100694  0.103299  0.100694  0.102431   0.064785  1.331712e+08\n",
       "1986-03-18  0.102431  0.103299  0.098958  0.099826   0.063138  6.776640e+07\n",
       "1986-03-19  0.099826  0.100694  0.097222  0.098090   0.062040  4.789440e+07"
      ]
     },
     "execution_count": 33,
     "metadata": {},
     "output_type": "execute_result"
    }
   ],
   "source": [
    "prices = pd.read_csv(f'data/price_histories/{ticker}_history.csv', index_col='Date')\n",
    "prices.head()"
   ]
  },
  {
   "cell_type": "markdown",
   "metadata": {},
   "source": [
    "# Loading Model Data"
   ]
  },
  {
   "cell_type": "code",
   "execution_count": 4,
   "metadata": {
    "execution": {
     "iopub.execute_input": "2021-08-30T01:28:54.209608Z",
     "iopub.status.busy": "2021-08-30T01:28:54.209608Z",
     "iopub.status.idle": "2021-08-30T01:28:54.240595Z",
     "shell.execute_reply": "2021-08-30T01:28:54.240595Z",
     "shell.execute_reply.started": "2021-08-30T01:28:54.209608Z"
    },
    "tags": []
   },
   "outputs": [],
   "source": [
    "data = pd.read_csv(f'data/preprocessed_data/{ticker}_preprocessed.csv')\n",
    "data = data.drop(columns=['Report Date', 'Price Date', 'Open', 'High', 'Low', 'Adj Close', 'Volume'])\n",
    "data.columns = [col.replace('.', '') for col in data.columns]\n",
    "X = data.drop(columns=['Close'])\n",
    "y = data.Close"
   ]
  },
  {
   "cell_type": "code",
   "execution_count": 5,
   "metadata": {
    "execution": {
     "iopub.execute_input": "2021-08-30T01:28:54.241600Z",
     "iopub.status.busy": "2021-08-30T01:28:54.241600Z",
     "iopub.status.idle": "2021-08-30T01:28:54.303603Z",
     "shell.execute_reply": "2021-08-30T01:28:54.302638Z",
     "shell.execute_reply.started": "2021-08-30T01:28:54.241600Z"
    },
    "tags": []
   },
   "outputs": [
    {
     "data": {
      "text/plain": [
       "xgboost.sklearn.XGBRFRegressor"
      ]
     },
     "execution_count": 5,
     "metadata": {},
     "output_type": "execute_result"
    }
   ],
   "source": [
    "model = joblib.load(f'models/{ticker}_model.joblib')\n",
    "type(model)"
   ]
  },
  {
   "cell_type": "code",
   "execution_count": 6,
   "metadata": {
    "execution": {
     "iopub.execute_input": "2021-08-30T01:28:54.304604Z",
     "iopub.status.busy": "2021-08-30T01:28:54.303603Z",
     "iopub.status.idle": "2021-08-30T01:28:54.319640Z",
     "shell.execute_reply": "2021-08-30T01:28:54.318634Z",
     "shell.execute_reply.started": "2021-08-30T01:28:54.304604Z"
    },
    "tags": []
   },
   "outputs": [
    {
     "data": {
      "text/plain": [
       "XGBRFRegressor(base_score=0.5, booster='gbtree', colsample_bylevel=0.2,\n",
       "               colsample_bytree=0.2, gamma=50, gpu_id=-1,\n",
       "               importance_type='gain', interaction_constraints='',\n",
       "               learning_rate=0.5, max_delta_step=0, max_depth=4,\n",
       "               min_child_weight=1, missing=nan, monotone_constraints='()',\n",
       "               n_estimators=100, n_jobs=0, num_parallel_tree=100,\n",
       "               objective='reg:squarederror', random_state=42, reg_alpha=0,\n",
       "               scale_pos_weight=1, tree_method='exact', validate_parameters=1,\n",
       "               verbosity=None)"
      ]
     },
     "execution_count": 6,
     "metadata": {},
     "output_type": "execute_result"
    }
   ],
   "source": [
    "model"
   ]
  },
  {
   "cell_type": "markdown",
   "metadata": {},
   "source": [
    "# Explainer"
   ]
  },
  {
   "cell_type": "code",
   "execution_count": 7,
   "metadata": {
    "execution": {
     "iopub.execute_input": "2021-08-30T01:28:54.320635Z",
     "iopub.status.busy": "2021-08-30T01:28:54.319640Z",
     "iopub.status.idle": "2021-08-30T01:28:54.397473Z",
     "shell.execute_reply": "2021-08-30T01:28:54.396559Z",
     "shell.execute_reply.started": "2021-08-30T01:28:54.320635Z"
    },
    "tags": []
   },
   "outputs": [
    {
     "name": "stdout",
     "output_type": "stream",
     "text": [
      "Generating self.shap_explainer = shap.TreeExplainer(model)\n"
     ]
    }
   ],
   "source": [
    "explainer = RegressionExplainer(model, X, y, shap='tree')"
   ]
  },
  {
   "cell_type": "markdown",
   "metadata": {},
   "source": [
    "# Custom Layout"
   ]
  },
  {
   "cell_type": "markdown",
   "metadata": {},
   "source": [
    "## Overview Tab"
   ]
  },
  {
   "cell_type": "code",
   "execution_count": 37,
   "metadata": {
    "execution": {
     "iopub.execute_input": "2021-08-30T01:59:14.070348Z",
     "iopub.status.busy": "2021-08-30T01:59:14.070348Z",
     "iopub.status.idle": "2021-08-30T01:59:14.085349Z",
     "shell.execute_reply": "2021-08-30T01:59:14.085349Z",
     "shell.execute_reply.started": "2021-08-30T01:59:14.070348Z"
    },
    "tags": []
   },
   "outputs": [],
   "source": [
    "class OverviewTab(ExplainerComponent):\n",
    "    def __init__(self, explainer, name=None, **kwargs):\n",
    "        super().__init__(explainer, title='Overview')\n",
    "        self.name = snp[snp.Symbol == ticker].Security.values[0]\n",
    "        self.sector = snp[snp.Symbol == ticker]['GICS Sector'].values[0]\n",
    "        self.industry = snp[snp.Symbol == ticker]['GICS Sub-Industry'].values[0]\n",
    "        self.hq = snp[snp.Symbol == ticker]['Headquarters Location'].values[0]\n",
    "        self.founded = snp[snp.Symbol == ticker].Founded.values[0]\n",
    "        \n",
    "    def layout(self):\n",
    "        return dbc.Container([\n",
    "            dbc.Row([\n",
    "                dbc.Col([\n",
    "                    html.H1('Microsoft (MSFT)'),\n",
    "                    html.Table(\n",
    "                        children=[\n",
    "                            html.Tr([\n",
    "                                html.Td(html.B('Sector:'), style={'marginRight': '20px'}),\n",
    "                                html.Td(self.sector),\n",
    "                                html.Td(html.B('Headquarters:'), style={'marginRight': '20px'}),\n",
    "                                html.Td(self.hq)\n",
    "                            ]),\n",
    "                            html.Tr([\n",
    "                                html.Td(html.B('Industry:'), style={'marginRight': '20px'}),\n",
    "                                html.Td(self.industry),\n",
    "                                html.Td(html.B('Founded:'), style={'marginRight': '20px'}),\n",
    "                                html.Td(self.founded)\n",
    "                            ])\n",
    "                        ], \n",
    "                        style={'border-collapse': 'separate', \n",
    "                               'border-spacing': '20px 5px',\n",
    "                               'margin-left': '-20px'}\n",
    "                    )\n",
    "                ])\n",
    "            ]),\n",
    "            dbc.Row([\n",
    "                dbc.Col([\n",
    "                    dcc.Graph(\n",
    "                        id='price_history_graph',\n",
    "                        figure={\n",
    "                            'data': [{'x': prices.index, 'y': prices.Close, 'type': 'line'}]\n",
    "                        }\n",
    "                    )\n",
    "                ])\n",
    "            ])\n",
    "        ])"
   ]
  },
  {
   "cell_type": "markdown",
   "metadata": {},
   "source": [
    "## Features Tab"
   ]
  },
  {
   "cell_type": "code",
   "execution_count": 11,
   "metadata": {
    "execution": {
     "iopub.execute_input": "2021-08-30T01:29:35.097955Z",
     "iopub.status.busy": "2021-08-30T01:29:35.097955Z",
     "iopub.status.idle": "2021-08-30T01:29:35.105956Z",
     "shell.execute_reply": "2021-08-30T01:29:35.104955Z",
     "shell.execute_reply.started": "2021-08-30T01:29:35.097955Z"
    },
    "tags": []
   },
   "outputs": [],
   "source": [
    "class FeaturesTab(ExplainerComponent):\n",
    "    def __init__(self, explainer, name=None, **kwargs):\n",
    "        super().__init__(explainer, title='Features')\n",
    "    \n",
    "    def layout(self):\n",
    "        return html.H3('Features explorer here')"
   ]
  },
  {
   "cell_type": "markdown",
   "metadata": {},
   "source": [
    "## SHAP Tab"
   ]
  },
  {
   "cell_type": "code",
   "execution_count": 12,
   "metadata": {
    "execution": {
     "iopub.execute_input": "2021-08-30T01:29:36.458495Z",
     "iopub.status.busy": "2021-08-30T01:29:36.458495Z",
     "iopub.status.idle": "2021-08-30T01:29:36.471526Z",
     "shell.execute_reply": "2021-08-30T01:29:36.470526Z",
     "shell.execute_reply.started": "2021-08-30T01:29:36.458495Z"
    },
    "tags": []
   },
   "outputs": [],
   "source": [
    "class SHAPTab(ExplainerComponent):\n",
    "    def __init__(self, explainer, name=None, **kwargs):\n",
    "        super().__init__(explainer, title='SHAP Analysis')\n",
    "        \n",
    "        self.feat_imps = ImportancesComponent(explainer,\n",
    "                                              depth=15,\n",
    "                                              no_permutations=True,\n",
    "                                              hide_popout=True)\n",
    "        \n",
    "        self.depend = ShapDependenceComponent(explainer, \n",
    "                                              hide_popout=True,\n",
    "                                              hide_outliers=True)\n",
    "    \n",
    "    def layout(self):\n",
    "        return dbc.Row([\n",
    "            dbc.Col([self.feat_imps.layout()]),\n",
    "            dbc.Col([self.depend.layout()])\n",
    "        ])"
   ]
  },
  {
   "cell_type": "markdown",
   "metadata": {},
   "source": [
    "# Running Explainer Dashboard"
   ]
  },
  {
   "cell_type": "code",
   "execution_count": 38,
   "metadata": {
    "execution": {
     "iopub.execute_input": "2021-08-30T01:59:16.920070Z",
     "iopub.status.busy": "2021-08-30T01:59:16.920070Z",
     "iopub.status.idle": "2021-08-30T01:59:59.598623Z",
     "shell.execute_reply": "2021-08-30T01:59:59.597622Z",
     "shell.execute_reply.started": "2021-08-30T01:59:16.920070Z"
    },
    "tags": []
   },
   "outputs": [
    {
     "name": "stdout",
     "output_type": "stream",
     "text": [
      "Building ExplainerDashboard..\n",
      "Detected notebook environment, consider setting mode='external', mode='inline' or mode='jupyterlab' to keep the notebook interactive while the dashboard is running...\n",
      "Generating layout...\n",
      "Calculating dependencies...\n",
      "Reminder: you can store the explainer (including calculated dependencies) with explainer.dump('explainer.joblib') and reload with e.g. ClassifierExplainer.from_file('explainer.joblib')\n",
      "Registering callbacks...\n",
      "Starting ExplainerDashboard on http://74.129.178.98:8050\n",
      "Dash is running on http://0.0.0.0:8050/\n",
      "\n",
      "Dash is running on http://0.0.0.0:8050/\n",
      "\n",
      "Dash is running on http://0.0.0.0:8050/\n",
      "\n",
      "Dash is running on http://0.0.0.0:8050/\n",
      "\n",
      "Dash is running on http://0.0.0.0:8050/\n",
      "\n",
      "Dash is running on http://0.0.0.0:8050/\n",
      "\n",
      "Dash is running on http://0.0.0.0:8050/\n",
      "\n",
      "Dash is running on http://0.0.0.0:8050/\n",
      "\n",
      "Dash is running on http://0.0.0.0:8050/\n",
      "\n",
      "Dash is running on http://0.0.0.0:8050/\n",
      "\n",
      "Dash is running on http://0.0.0.0:8050/\n",
      "\n",
      " * Serving Flask app 'explainerdashboard.dashboards' (lazy loading)\n",
      " * Environment: production\n",
      "   WARNING: This is a development server. Do not use it in a production deployment.\n",
      "   Use a production WSGI server instead.\n",
      " * Debug mode: off\n"
     ]
    },
    {
     "name": "stderr",
     "output_type": "stream",
     "text": [
      " * Running on all addresses.\n",
      "   WARNING: This is a development server. Do not use it in a production deployment.\n",
      " * Running on http://74.129.178.98:8050/ (Press CTRL+C to quit)\n",
      "74.129.178.98 - - [29/Aug/2021 21:59:19] \"GET / HTTP/1.1\" 200 -\n",
      "74.129.178.98 - - [29/Aug/2021 21:59:20] \"GET /_dash-dependencies HTTP/1.1\" 200 -\n",
      "74.129.178.98 - - [29/Aug/2021 21:59:20] \"GET /assets/favicon.ico?m=1630208771.8202608 HTTP/1.1\" 200 -\n",
      "74.129.178.98 - - [29/Aug/2021 21:59:20] \"GET /_dash-layout HTTP/1.1\" 200 -\n",
      "74.129.178.98 - - [29/Aug/2021 21:59:20] \"GET /_dash-component-suites/dash_core_components/async-graph.js HTTP/1.1\" 200 -\n",
      "74.129.178.98 - - [29/Aug/2021 21:59:20] \"POST /_dash-update-component HTTP/1.1\" 200 -\n",
      "74.129.178.98 - - [29/Aug/2021 21:59:20] \"POST /_dash-update-component HTTP/1.1\" 200 -\n",
      "74.129.178.98 - - [29/Aug/2021 21:59:20] \"POST /_dash-update-component HTTP/1.1\" 204 -\n",
      "74.129.178.98 - - [29/Aug/2021 21:59:20] \"POST /_dash-update-component HTTP/1.1\" 200 -\n",
      "74.129.178.98 - - [29/Aug/2021 21:59:20] \"POST /_dash-update-component HTTP/1.1\" 200 -\n",
      "74.129.178.98 - - [29/Aug/2021 21:59:20] \"POST /_dash-update-component HTTP/1.1\" 200 -\n",
      "74.129.178.98 - - [29/Aug/2021 21:59:20] \"POST /_dash-update-component HTTP/1.1\" 200 -\n",
      "74.129.178.98 - - [29/Aug/2021 21:59:20] \"POST /_dash-update-component HTTP/1.1\" 200 -\n",
      "74.129.178.98 - - [29/Aug/2021 21:59:20] \"POST /_dash-update-component HTTP/1.1\" 200 -\n",
      "74.129.178.98 - - [29/Aug/2021 21:59:20] \"GET /_dash-component-suites/dash_core_components/async-plotlyjs.js HTTP/1.1\" 200 -\n"
     ]
    }
   ],
   "source": [
    "db = ExplainerDashboard(explainer,\n",
    "                        tabs=[OverviewTab, FeaturesTab, SHAPTab],\n",
    "                        title='Stock KPIs',\n",
    "                        bootstrap=dbc.themes.FLATLY,\n",
    "                        header_hide_download=True,\n",
    "                        hide_poweredby=True)\n",
    "\n",
    "db.run(port=8050)"
   ]
  }
 ],
 "metadata": {
  "kernelspec": {
   "display_name": "learn-env",
   "language": "python",
   "name": "learn-env"
  },
  "language_info": {
   "codemirror_mode": {
    "name": "ipython",
    "version": 3
   },
   "file_extension": ".py",
   "mimetype": "text/x-python",
   "name": "python",
   "nbconvert_exporter": "python",
   "pygments_lexer": "ipython3",
   "version": "3.8.5"
  }
 },
 "nbformat": 4,
 "nbformat_minor": 4
}
