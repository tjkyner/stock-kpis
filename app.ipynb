{
 "cells": [
  {
   "cell_type": "markdown",
   "metadata": {},
   "source": [
    "# Imports & Settings"
   ]
  },
  {
   "cell_type": "code",
   "execution_count": 38,
   "metadata": {
    "execution": {
     "iopub.execute_input": "2021-08-31T02:47:04.227633Z",
     "iopub.status.busy": "2021-08-31T02:47:04.227633Z",
     "iopub.status.idle": "2021-08-31T02:47:04.246633Z",
     "shell.execute_reply": "2021-08-31T02:47:04.245633Z",
     "shell.execute_reply.started": "2021-08-31T02:47:04.227633Z"
    },
    "tags": []
   },
   "outputs": [],
   "source": [
    "# Core tools\n",
    "import joblib\n",
    "import pandas as pd\n",
    "\n",
    "# Company info\n",
    "import yfinance as yf\n",
    "\n",
    "# Dash\n",
    "from dash.dependencies import Input, Output\n",
    "\n",
    "# Explainer Dashboard\n",
    "from explainerdashboard.custom import *\n",
    "from explainerdashboard import RegressionExplainer, ExplainerDashboard"
   ]
  },
  {
   "cell_type": "markdown",
   "metadata": {},
   "source": [
    "# Setting Ticker\n",
    "Until functionality is built directly into the dashboard for switching between companies, the ticker to be analyzed will need to be manually specified here."
   ]
  },
  {
   "cell_type": "code",
   "execution_count": 2,
   "metadata": {
    "execution": {
     "iopub.execute_input": "2021-08-31T02:03:42.504840Z",
     "iopub.status.busy": "2021-08-31T02:03:42.504840Z",
     "iopub.status.idle": "2021-08-31T02:03:42.519842Z",
     "shell.execute_reply": "2021-08-31T02:03:42.518841Z",
     "shell.execute_reply.started": "2021-08-31T02:03:42.504840Z"
    },
    "tags": []
   },
   "outputs": [],
   "source": [
    "ticker = 'AAPL'"
   ]
  },
  {
   "cell_type": "markdown",
   "metadata": {},
   "source": [
    "# Loading Data\n",
    "## S&P 500"
   ]
  },
  {
   "cell_type": "code",
   "execution_count": 3,
   "metadata": {
    "execution": {
     "iopub.execute_input": "2021-08-31T02:03:42.520845Z",
     "iopub.status.busy": "2021-08-31T02:03:42.519842Z",
     "iopub.status.idle": "2021-08-31T02:03:42.611499Z",
     "shell.execute_reply": "2021-08-31T02:03:42.610527Z",
     "shell.execute_reply.started": "2021-08-31T02:03:42.520845Z"
    },
    "tags": []
   },
   "outputs": [
    {
     "data": {
      "text/html": [
       "<div>\n",
       "<style scoped>\n",
       "    .dataframe tbody tr th:only-of-type {\n",
       "        vertical-align: middle;\n",
       "    }\n",
       "\n",
       "    .dataframe tbody tr th {\n",
       "        vertical-align: top;\n",
       "    }\n",
       "\n",
       "    .dataframe thead th {\n",
       "        text-align: right;\n",
       "    }\n",
       "</style>\n",
       "<table border=\"1\" class=\"dataframe\">\n",
       "  <thead>\n",
       "    <tr style=\"text-align: right;\">\n",
       "      <th></th>\n",
       "      <th>Symbol</th>\n",
       "      <th>Security</th>\n",
       "      <th>SEC filings</th>\n",
       "      <th>GICS Sector</th>\n",
       "      <th>GICS Sub-Industry</th>\n",
       "      <th>Headquarters Location</th>\n",
       "      <th>Date first added</th>\n",
       "      <th>CIK</th>\n",
       "      <th>Founded</th>\n",
       "    </tr>\n",
       "  </thead>\n",
       "  <tbody>\n",
       "    <tr>\n",
       "      <th>0</th>\n",
       "      <td>MMM</td>\n",
       "      <td>3M</td>\n",
       "      <td>reports</td>\n",
       "      <td>Industrials</td>\n",
       "      <td>Industrial Conglomerates</td>\n",
       "      <td>Saint Paul, Minnesota</td>\n",
       "      <td>1976-08-09</td>\n",
       "      <td>66740</td>\n",
       "      <td>1902</td>\n",
       "    </tr>\n",
       "    <tr>\n",
       "      <th>1</th>\n",
       "      <td>ABT</td>\n",
       "      <td>Abbott Laboratories</td>\n",
       "      <td>reports</td>\n",
       "      <td>Health Care</td>\n",
       "      <td>Health Care Equipment</td>\n",
       "      <td>North Chicago, Illinois</td>\n",
       "      <td>1964-03-31</td>\n",
       "      <td>1800</td>\n",
       "      <td>1888</td>\n",
       "    </tr>\n",
       "    <tr>\n",
       "      <th>2</th>\n",
       "      <td>ABBV</td>\n",
       "      <td>AbbVie</td>\n",
       "      <td>reports</td>\n",
       "      <td>Health Care</td>\n",
       "      <td>Pharmaceuticals</td>\n",
       "      <td>North Chicago, Illinois</td>\n",
       "      <td>2012-12-31</td>\n",
       "      <td>1551152</td>\n",
       "      <td>2013 (1888)</td>\n",
       "    </tr>\n",
       "    <tr>\n",
       "      <th>3</th>\n",
       "      <td>ABMD</td>\n",
       "      <td>Abiomed</td>\n",
       "      <td>reports</td>\n",
       "      <td>Health Care</td>\n",
       "      <td>Health Care Equipment</td>\n",
       "      <td>Danvers, Massachusetts</td>\n",
       "      <td>2018-05-31</td>\n",
       "      <td>815094</td>\n",
       "      <td>1981</td>\n",
       "    </tr>\n",
       "    <tr>\n",
       "      <th>4</th>\n",
       "      <td>ACN</td>\n",
       "      <td>Accenture</td>\n",
       "      <td>reports</td>\n",
       "      <td>Information Technology</td>\n",
       "      <td>IT Consulting &amp; Other Services</td>\n",
       "      <td>Dublin, Ireland</td>\n",
       "      <td>2011-07-06</td>\n",
       "      <td>1467373</td>\n",
       "      <td>1989</td>\n",
       "    </tr>\n",
       "  </tbody>\n",
       "</table>\n",
       "</div>"
      ],
      "text/plain": [
       "  Symbol             Security SEC filings             GICS Sector  \\\n",
       "0    MMM                   3M     reports             Industrials   \n",
       "1    ABT  Abbott Laboratories     reports             Health Care   \n",
       "2   ABBV               AbbVie     reports             Health Care   \n",
       "3   ABMD              Abiomed     reports             Health Care   \n",
       "4    ACN            Accenture     reports  Information Technology   \n",
       "\n",
       "                GICS Sub-Industry    Headquarters Location Date first added  \\\n",
       "0        Industrial Conglomerates    Saint Paul, Minnesota       1976-08-09   \n",
       "1           Health Care Equipment  North Chicago, Illinois       1964-03-31   \n",
       "2                 Pharmaceuticals  North Chicago, Illinois       2012-12-31   \n",
       "3           Health Care Equipment   Danvers, Massachusetts       2018-05-31   \n",
       "4  IT Consulting & Other Services          Dublin, Ireland       2011-07-06   \n",
       "\n",
       "       CIK      Founded  \n",
       "0    66740         1902  \n",
       "1     1800         1888  \n",
       "2  1551152  2013 (1888)  \n",
       "3   815094         1981  \n",
       "4  1467373         1989  "
      ]
     },
     "execution_count": 3,
     "metadata": {},
     "output_type": "execute_result"
    }
   ],
   "source": [
    "snp = pd.read_csv('data/sp500.csv')\n",
    "snp.head()"
   ]
  },
  {
   "cell_type": "markdown",
   "metadata": {},
   "source": [
    "## Company Info"
   ]
  },
  {
   "cell_type": "code",
   "execution_count": 4,
   "metadata": {
    "execution": {
     "iopub.execute_input": "2021-08-31T02:03:42.612501Z",
     "iopub.status.busy": "2021-08-31T02:03:42.612501Z",
     "iopub.status.idle": "2021-08-31T02:03:45.874640Z",
     "shell.execute_reply": "2021-08-31T02:03:45.874640Z",
     "shell.execute_reply.started": "2021-08-31T02:03:42.612501Z"
    },
    "tags": []
   },
   "outputs": [
    {
     "data": {
      "text/plain": [
       "dict_keys(['zip', 'sector', 'fullTimeEmployees', 'longBusinessSummary', 'city', 'phone', 'state', 'country', 'companyOfficers', 'website', 'maxAge', 'address1', 'industry', 'ebitdaMargins', 'profitMargins', 'grossMargins', 'operatingCashflow', 'revenueGrowth', 'operatingMargins', 'ebitda', 'targetLowPrice', 'recommendationKey', 'grossProfits', 'freeCashflow', 'targetMedianPrice', 'currentPrice', 'earningsGrowth', 'currentRatio', 'returnOnAssets', 'numberOfAnalystOpinions', 'targetMeanPrice', 'debtToEquity', 'returnOnEquity', 'targetHighPrice', 'totalCash', 'totalDebt', 'totalRevenue', 'totalCashPerShare', 'financialCurrency', 'revenuePerShare', 'quickRatio', 'recommendationMean', 'exchange', 'shortName', 'longName', 'exchangeTimezoneName', 'exchangeTimezoneShortName', 'isEsgPopulated', 'gmtOffSetMilliseconds', 'quoteType', 'symbol', 'messageBoardId', 'market', 'annualHoldingsTurnover', 'enterpriseToRevenue', 'beta3Year', 'enterpriseToEbitda', '52WeekChange', 'morningStarRiskRating', 'forwardEps', 'revenueQuarterlyGrowth', 'sharesOutstanding', 'fundInceptionDate', 'annualReportExpenseRatio', 'totalAssets', 'bookValue', 'sharesShort', 'sharesPercentSharesOut', 'fundFamily', 'lastFiscalYearEnd', 'heldPercentInstitutions', 'netIncomeToCommon', 'trailingEps', 'lastDividendValue', 'SandP52WeekChange', 'priceToBook', 'heldPercentInsiders', 'nextFiscalYearEnd', 'yield', 'mostRecentQuarter', 'shortRatio', 'sharesShortPreviousMonthDate', 'floatShares', 'beta', 'enterpriseValue', 'priceHint', 'threeYearAverageReturn', 'lastSplitDate', 'lastSplitFactor', 'legalType', 'lastDividendDate', 'morningStarOverallRating', 'earningsQuarterlyGrowth', 'priceToSalesTrailing12Months', 'dateShortInterest', 'pegRatio', 'ytdReturn', 'forwardPE', 'lastCapGain', 'shortPercentOfFloat', 'sharesShortPriorMonth', 'impliedSharesOutstanding', 'category', 'fiveYearAverageReturn', 'previousClose', 'regularMarketOpen', 'twoHundredDayAverage', 'trailingAnnualDividendYield', 'payoutRatio', 'volume24Hr', 'regularMarketDayHigh', 'navPrice', 'averageDailyVolume10Day', 'regularMarketPreviousClose', 'fiftyDayAverage', 'trailingAnnualDividendRate', 'open', 'toCurrency', 'averageVolume10days', 'expireDate', 'algorithm', 'dividendRate', 'exDividendDate', 'circulatingSupply', 'startDate', 'regularMarketDayLow', 'currency', 'trailingPE', 'regularMarketVolume', 'lastMarket', 'maxSupply', 'openInterest', 'marketCap', 'volumeAllCurrencies', 'strikePrice', 'averageVolume', 'dayLow', 'ask', 'askSize', 'volume', 'fiftyTwoWeekHigh', 'fromCurrency', 'fiveYearAvgDividendYield', 'fiftyTwoWeekLow', 'bid', 'tradeable', 'dividendYield', 'bidSize', 'dayHigh', 'regularMarketPrice', 'logo_url'])"
      ]
     },
     "execution_count": 4,
     "metadata": {},
     "output_type": "execute_result"
    }
   ],
   "source": [
    "info = yf.Ticker(ticker).info\n",
    "info.keys()"
   ]
  },
  {
   "cell_type": "code",
   "execution_count": 53,
   "metadata": {
    "execution": {
     "iopub.execute_input": "2021-08-31T03:06:42.533821Z",
     "iopub.status.busy": "2021-08-31T03:06:42.533821Z",
     "iopub.status.idle": "2021-08-31T03:06:42.549500Z",
     "shell.execute_reply": "2021-08-31T03:06:42.548985Z",
     "shell.execute_reply.started": "2021-08-31T03:06:42.533821Z"
    },
    "tags": []
   },
   "outputs": [],
   "source": [
    "company = snp[snp.Symbol == ticker].Security.values[0]\n",
    "sector = snp[snp.Symbol == ticker]['GICS Sector'].values[0]\n",
    "industry = snp[snp.Symbol == ticker]['GICS Sub-Industry'].values[0]\n",
    "hq = snp[snp.Symbol == ticker]['Headquarters Location'].values[0]\n",
    "founded = snp[snp.Symbol == ticker].Founded.values[0]\n",
    "marketcap = f\"${info['marketCap']:,}\"\n",
    "website = info['website']\n",
    "description = info['longBusinessSummary']\n",
    "logo = info['logo_url']"
   ]
  },
  {
   "cell_type": "markdown",
   "metadata": {},
   "source": [
    "## Price History"
   ]
  },
  {
   "cell_type": "code",
   "execution_count": 5,
   "metadata": {
    "execution": {
     "iopub.execute_input": "2021-08-31T02:03:45.875638Z",
     "iopub.status.busy": "2021-08-31T02:03:45.875638Z",
     "iopub.status.idle": "2021-08-31T02:03:45.938637Z",
     "shell.execute_reply": "2021-08-31T02:03:45.938637Z",
     "shell.execute_reply.started": "2021-08-31T02:03:45.875638Z"
    },
    "tags": []
   },
   "outputs": [
    {
     "data": {
      "text/html": [
       "<div>\n",
       "<style scoped>\n",
       "    .dataframe tbody tr th:only-of-type {\n",
       "        vertical-align: middle;\n",
       "    }\n",
       "\n",
       "    .dataframe tbody tr th {\n",
       "        vertical-align: top;\n",
       "    }\n",
       "\n",
       "    .dataframe thead th {\n",
       "        text-align: right;\n",
       "    }\n",
       "</style>\n",
       "<table border=\"1\" class=\"dataframe\">\n",
       "  <thead>\n",
       "    <tr style=\"text-align: right;\">\n",
       "      <th></th>\n",
       "      <th>Open</th>\n",
       "      <th>High</th>\n",
       "      <th>Low</th>\n",
       "      <th>Close</th>\n",
       "      <th>Adj Close</th>\n",
       "      <th>Volume</th>\n",
       "    </tr>\n",
       "    <tr>\n",
       "      <th>Date</th>\n",
       "      <th></th>\n",
       "      <th></th>\n",
       "      <th></th>\n",
       "      <th></th>\n",
       "      <th></th>\n",
       "      <th></th>\n",
       "    </tr>\n",
       "  </thead>\n",
       "  <tbody>\n",
       "    <tr>\n",
       "      <th>1980-12-12</th>\n",
       "      <td>0.128348</td>\n",
       "      <td>0.128906</td>\n",
       "      <td>0.128348</td>\n",
       "      <td>0.128348</td>\n",
       "      <td>0.100600</td>\n",
       "      <td>469033600.0</td>\n",
       "    </tr>\n",
       "    <tr>\n",
       "      <th>1980-12-15</th>\n",
       "      <td>0.122210</td>\n",
       "      <td>0.122210</td>\n",
       "      <td>0.121652</td>\n",
       "      <td>0.121652</td>\n",
       "      <td>0.095352</td>\n",
       "      <td>175884800.0</td>\n",
       "    </tr>\n",
       "    <tr>\n",
       "      <th>1980-12-16</th>\n",
       "      <td>0.113281</td>\n",
       "      <td>0.113281</td>\n",
       "      <td>0.112723</td>\n",
       "      <td>0.112723</td>\n",
       "      <td>0.088353</td>\n",
       "      <td>105728000.0</td>\n",
       "    </tr>\n",
       "    <tr>\n",
       "      <th>1980-12-17</th>\n",
       "      <td>0.115513</td>\n",
       "      <td>0.116071</td>\n",
       "      <td>0.115513</td>\n",
       "      <td>0.115513</td>\n",
       "      <td>0.090540</td>\n",
       "      <td>86441600.0</td>\n",
       "    </tr>\n",
       "    <tr>\n",
       "      <th>1980-12-18</th>\n",
       "      <td>0.118862</td>\n",
       "      <td>0.119420</td>\n",
       "      <td>0.118862</td>\n",
       "      <td>0.118862</td>\n",
       "      <td>0.093165</td>\n",
       "      <td>73449600.0</td>\n",
       "    </tr>\n",
       "  </tbody>\n",
       "</table>\n",
       "</div>"
      ],
      "text/plain": [
       "                Open      High       Low     Close  Adj Close       Volume\n",
       "Date                                                                      \n",
       "1980-12-12  0.128348  0.128906  0.128348  0.128348   0.100600  469033600.0\n",
       "1980-12-15  0.122210  0.122210  0.121652  0.121652   0.095352  175884800.0\n",
       "1980-12-16  0.113281  0.113281  0.112723  0.112723   0.088353  105728000.0\n",
       "1980-12-17  0.115513  0.116071  0.115513  0.115513   0.090540   86441600.0\n",
       "1980-12-18  0.118862  0.119420  0.118862  0.118862   0.093165   73449600.0"
      ]
     },
     "execution_count": 5,
     "metadata": {},
     "output_type": "execute_result"
    }
   ],
   "source": [
    "prices = pd.read_csv(f'data/price_histories/{ticker}_history.csv', index_col='Date')\n",
    "prices.head()"
   ]
  },
  {
   "cell_type": "markdown",
   "metadata": {},
   "source": [
    "## Prebuilt Model"
   ]
  },
  {
   "cell_type": "code",
   "execution_count": 31,
   "metadata": {
    "execution": {
     "iopub.execute_input": "2021-08-31T02:27:33.499971Z",
     "iopub.status.busy": "2021-08-31T02:27:33.498973Z",
     "iopub.status.idle": "2021-08-31T02:27:33.520974Z",
     "shell.execute_reply": "2021-08-31T02:27:33.519973Z",
     "shell.execute_reply.started": "2021-08-31T02:27:33.499971Z"
    },
    "tags": []
   },
   "outputs": [],
   "source": [
    "data_full = pd.read_csv(f'data/preprocessed_data/{ticker}_preprocessed.csv')\n",
    "data = data_full.drop(columns=['Report Date', 'Price Date', 'Open', 'High', 'Low', 'Adj Close', 'Volume'])\n",
    "data.columns = [col.replace('.', '') for col in data.columns]\n",
    "X = data.drop(columns=['Close'])\n",
    "y = data.Close"
   ]
  },
  {
   "cell_type": "code",
   "execution_count": 7,
   "metadata": {
    "execution": {
     "iopub.execute_input": "2021-08-31T02:03:45.986641Z",
     "iopub.status.busy": "2021-08-31T02:03:45.985639Z",
     "iopub.status.idle": "2021-08-31T02:03:46.455122Z",
     "shell.execute_reply": "2021-08-31T02:03:46.455122Z",
     "shell.execute_reply.started": "2021-08-31T02:03:45.986641Z"
    },
    "tags": []
   },
   "outputs": [
    {
     "data": {
      "text/plain": [
       "xgboost.sklearn.XGBRFRegressor"
      ]
     },
     "execution_count": 7,
     "metadata": {},
     "output_type": "execute_result"
    }
   ],
   "source": [
    "model = joblib.load(f'models/{ticker}_model.joblib')\n",
    "type(model)"
   ]
  },
  {
   "cell_type": "code",
   "execution_count": 8,
   "metadata": {
    "execution": {
     "iopub.execute_input": "2021-08-31T02:03:46.457093Z",
     "iopub.status.busy": "2021-08-31T02:03:46.456136Z",
     "iopub.status.idle": "2021-08-31T02:03:46.488133Z",
     "shell.execute_reply": "2021-08-31T02:03:46.487131Z",
     "shell.execute_reply.started": "2021-08-31T02:03:46.457093Z"
    },
    "tags": []
   },
   "outputs": [
    {
     "data": {
      "text/plain": [
       "XGBRFRegressor(base_score=0.5, booster='gbtree', colsample_bylevel=0.2,\n",
       "               colsample_bytree=0.2, gamma=25, gpu_id=-1,\n",
       "               importance_type='gain', interaction_constraints='',\n",
       "               learning_rate=0.5, max_delta_step=0, max_depth=4,\n",
       "               min_child_weight=1, missing=nan, monotone_constraints='()',\n",
       "               n_estimators=100, n_jobs=0, num_parallel_tree=100,\n",
       "               objective='reg:squarederror', random_state=42, reg_alpha=0,\n",
       "               scale_pos_weight=1, tree_method='exact', validate_parameters=1,\n",
       "               verbosity=None)"
      ]
     },
     "execution_count": 8,
     "metadata": {},
     "output_type": "execute_result"
    }
   ],
   "source": [
    "model"
   ]
  },
  {
   "cell_type": "markdown",
   "metadata": {},
   "source": [
    "# Setting Explainer"
   ]
  },
  {
   "cell_type": "code",
   "execution_count": 9,
   "metadata": {
    "execution": {
     "iopub.execute_input": "2021-08-31T02:03:46.489133Z",
     "iopub.status.busy": "2021-08-31T02:03:46.488133Z",
     "iopub.status.idle": "2021-08-31T02:03:46.552132Z",
     "shell.execute_reply": "2021-08-31T02:03:46.551157Z",
     "shell.execute_reply.started": "2021-08-31T02:03:46.489133Z"
    },
    "tags": []
   },
   "outputs": [
    {
     "name": "stdout",
     "output_type": "stream",
     "text": [
      "Generating self.shap_explainer = shap.TreeExplainer(model)\n"
     ]
    }
   ],
   "source": [
    "explainer = RegressionExplainer(model, X, y, shap='tree')"
   ]
  },
  {
   "cell_type": "markdown",
   "metadata": {},
   "source": [
    "# Customizing Layout"
   ]
  },
  {
   "cell_type": "markdown",
   "metadata": {},
   "source": [
    "## Overview Tab"
   ]
  },
  {
   "cell_type": "code",
   "execution_count": 54,
   "metadata": {
    "execution": {
     "iopub.execute_input": "2021-08-31T03:07:57.295393Z",
     "iopub.status.busy": "2021-08-31T03:07:57.295393Z",
     "iopub.status.idle": "2021-08-31T03:07:57.308424Z",
     "shell.execute_reply": "2021-08-31T03:07:57.307398Z",
     "shell.execute_reply.started": "2021-08-31T03:07:57.295393Z"
    },
    "tags": []
   },
   "outputs": [],
   "source": [
    "class OverviewTab(ExplainerComponent):\n",
    "    def __init__(self, explainer, name=None, **kwargs):\n",
    "        super().__init__(explainer, title='Overview')\n",
    "        \n",
    "    def layout(self):\n",
    "        return dbc.Container(\n",
    "            children=[\n",
    "                dbc.Row([\n",
    "                    dbc.Col([\n",
    "                        html.Div([\n",
    "                            html.Img(\n",
    "                                src=logo, \n",
    "                                style={'display': 'inline',\n",
    "                                       'vertical-align': 'middle',\n",
    "                                       'height': '3rem',\n",
    "                                       'width': '3rem'}\n",
    "                            ),\n",
    "                            html.H1(\n",
    "                                children=html.B(f'{company} ({ticker})'),\n",
    "                                style={'display': 'inline',\n",
    "                                       'vertical-align': 'middle',\n",
    "                                       'height': '3rem',\n",
    "                                       'width': '3rem',\n",
    "                                       'marginLeft': '20px'}\n",
    "                            )\n",
    "                        ]),\n",
    "                        html.Hr(),\n",
    "                        html.Table(\n",
    "                            children=[\n",
    "                                html.Tr([\n",
    "                                    html.Td(html.B('Sector:')),\n",
    "                                    html.Td(sector),\n",
    "                                    html.Td(html.B('Headquarters:')),\n",
    "                                    html.Td(hq),\n",
    "                                    html.Td(html.B('Market Cap:')),\n",
    "                                    html.Td(marketcap)\n",
    "                                ]),\n",
    "                                html.Tr([\n",
    "                                    html.Td(html.B('Industry:')),\n",
    "                                    html.Td(industry),\n",
    "                                    html.Td(html.B('Founded:')),\n",
    "                                    html.Td(founded),\n",
    "                                    html.Td(html.B('Website:')),\n",
    "                                    html.Td(html.A(website, href=website, target='_blank'))\n",
    "                                ])\n",
    "                            ], \n",
    "                            style={'border-collapse': 'separate', \n",
    "                                   'border-spacing': '20px 5px',\n",
    "                                   'margin-left': '-20px'}\n",
    "                        ),\n",
    "                        html.Br()\n",
    "                    ])\n",
    "                ]),\n",
    "                dbc.Row([\n",
    "                    dbc.Col([\n",
    "                        html.H4(html.B('Description')),\n",
    "                        html.P(description),\n",
    "                        html.Br()\n",
    "                    ])\n",
    "                ]),\n",
    "                dbc.Row([\n",
    "                    dbc.Col([\n",
    "                        html.H4(html.B('Price History')),\n",
    "                        dcc.Graph(\n",
    "                            id='price_history_graph',\n",
    "                            figure={\n",
    "                                'data': [{\n",
    "                                    'x': prices.index, \n",
    "                                    'y': prices.Close, \n",
    "                                    'type': 'line'\n",
    "                                }],\n",
    "                                'layout': {\n",
    "                                    'margin': dict(t=10),\n",
    "                                    'xaxis': dict(title='Year'),\n",
    "                                    'yaxis': dict(title='Price per Share',\n",
    "                                                  tickprefix='$')\n",
    "                                }\n",
    "                            },\n",
    "                            config={'displayModeBar': False}\n",
    "                        )\n",
    "                    ])\n",
    "                ])\n",
    "            ],\n",
    "            style={'marginTop': '25px'}\n",
    "        )"
   ]
  },
  {
   "cell_type": "markdown",
   "metadata": {},
   "source": [
    "## Features Tab"
   ]
  },
  {
   "cell_type": "code",
   "execution_count": 66,
   "metadata": {
    "execution": {
     "iopub.execute_input": "2021-08-31T03:27:08.771187Z",
     "iopub.status.busy": "2021-08-31T03:27:08.771187Z",
     "iopub.status.idle": "2021-08-31T03:27:08.793129Z",
     "shell.execute_reply": "2021-08-31T03:27:08.792128Z",
     "shell.execute_reply.started": "2021-08-31T03:27:08.771187Z"
    },
    "tags": []
   },
   "outputs": [],
   "source": [
    "class FeaturesTab(ExplainerComponent):\n",
    "    def __init__(self, explainer, name=None, **kwargs):\n",
    "        super().__init__(explainer, title='Features')\n",
    "        \n",
    "    def component_callbacks(self, app, **kwargs):\n",
    "        @app.callback(\n",
    "            Output('feature_graph', 'figure'),\n",
    "            Input('feature_explorer_dropdown', 'value')\n",
    "        )\n",
    "        def update_graph(value):\n",
    "            return {\n",
    "                'data': [{\n",
    "                    'x': data_full['Report Date'],\n",
    "                    'y': data_full[value],\n",
    "                    'type': 'bar'\n",
    "                }],\n",
    "                'layout': {\n",
    "                    'margin': dict(t=25),\n",
    "                    'xaxis': dict(title='Year'),\n",
    "                    'yaxis': dict(title='Value (USD)',\n",
    "                                  tickprefix='$')\n",
    "                }\n",
    "            }\n",
    "    \n",
    "    def layout(self):\n",
    "        return dbc.Container(\n",
    "            children=[\n",
    "                dbc.Row([\n",
    "                    dbc.Col([\n",
    "                        html.Div([\n",
    "                            html.Img(\n",
    "                                src=logo, \n",
    "                                style={'display': 'inline',\n",
    "                                       'vertical-align': 'middle',\n",
    "                                       'height': '3rem',\n",
    "                                       'width': '3rem'}\n",
    "                            ),\n",
    "                            html.H1(\n",
    "                                children=html.B(f'{company} ({ticker})'),\n",
    "                                style={'display': 'inline',\n",
    "                                       'vertical-align': 'middle',\n",
    "                                       'height': '3rem',\n",
    "                                       'width': '3rem',\n",
    "                                       'marginLeft': '20px'}\n",
    "                            )\n",
    "                        ]),\n",
    "                        html.Hr(),\n",
    "                    ])\n",
    "                ]),\n",
    "                dbc.Row([\n",
    "                    dbc.Col([html.H3('Feature Explorer')]),\n",
    "                    dbc.Col([\n",
    "                        dcc.Dropdown(id='feature_explorer_dropdown', \n",
    "                                     options=[{'label': col, 'value': col} for col in X.columns],\n",
    "                                     value='Total Assets',\n",
    "                                     multi=False)\n",
    "                    ])\n",
    "                ]),\n",
    "                dbc.Row([\n",
    "                    dbc.Col([\n",
    "                        dcc.Graph(id='feature_graph', \n",
    "                                  config={'displayModeBar': False})\n",
    "                    ])\n",
    "                ])\n",
    "            ],\n",
    "            style={'marginTop': '25px'}\n",
    "        )"
   ]
  },
  {
   "cell_type": "markdown",
   "metadata": {},
   "source": [
    "## SHAP Tab"
   ]
  },
  {
   "cell_type": "code",
   "execution_count": 84,
   "metadata": {
    "execution": {
     "iopub.execute_input": "2021-08-31T04:24:02.778712Z",
     "iopub.status.busy": "2021-08-31T04:24:02.778712Z",
     "iopub.status.idle": "2021-08-31T04:24:02.791689Z",
     "shell.execute_reply": "2021-08-31T04:24:02.790712Z",
     "shell.execute_reply.started": "2021-08-31T04:24:02.778712Z"
    },
    "tags": []
   },
   "outputs": [],
   "source": [
    "class SHAPTab(ExplainerComponent):\n",
    "    def __init__(self, explainer, name=None, **kwargs):\n",
    "        super().__init__(explainer, title='SHAP Analysis')\n",
    "        \n",
    "        self.feat_imps = ImportancesComponent(explainer,\n",
    "                                              depth=15,\n",
    "                                              no_permutations=True,\n",
    "                                              hide_popout=True)\n",
    "        \n",
    "        self.depend = ShapDependenceComponent(explainer, \n",
    "                                              hide_popout=True,\n",
    "                                              hide_outliers=True)\n",
    "        \n",
    "        self.interaction_summary = InteractionSummaryComponent(explainer,\n",
    "                                                               hide_popout=True,\n",
    "                                                               hide_type=True,\n",
    "                                                               depth=10)\n",
    "    \n",
    "    def layout(self):\n",
    "        return dbc.Container(\n",
    "            children=[\n",
    "                dbc.Row([\n",
    "                    dbc.Col([\n",
    "                        html.Div([\n",
    "                            html.Img(\n",
    "                                src=logo, \n",
    "                                style={'display': 'inline',\n",
    "                                       'vertical-align': 'middle',\n",
    "                                       'height': '3rem',\n",
    "                                       'width': '3rem'}\n",
    "                            ),\n",
    "                            html.H1(\n",
    "                                children=html.B(f'{company} ({ticker})'),\n",
    "                                style={'display': 'inline',\n",
    "                                       'vertical-align': 'middle',\n",
    "                                       'height': '3rem',\n",
    "                                       'width': '3rem',\n",
    "                                       'marginLeft': '20px'}\n",
    "                            )\n",
    "                        ]),\n",
    "                        html.Hr(),\n",
    "                    ])\n",
    "                ]),\n",
    "                dbc.Row([dbc.Col([self.feat_imps.layout()])]),\n",
    "                html.Br(),\n",
    "                dbc.Row([dbc.Col([self.depend.layout()])]),\n",
    "                html.Br(),\n",
    "                dbc.Row([dbc.Col([self.interaction_summary.layout()])]),\n",
    "                html.Br()\n",
    "            ],\n",
    "            style={'marginTop': '25px'}\n",
    "        )"
   ]
  },
  {
   "cell_type": "markdown",
   "metadata": {},
   "source": [
    "# Running the Dashboard"
   ]
  },
  {
   "cell_type": "code",
   "execution_count": null,
   "metadata": {
    "execution": {
     "iopub.execute_input": "2021-08-31T04:24:04.902120Z",
     "iopub.status.busy": "2021-08-31T04:24:04.902120Z"
    },
    "tags": []
   },
   "outputs": [
    {
     "name": "stdout",
     "output_type": "stream",
     "text": [
      "Building ExplainerDashboard..\n",
      "Detected notebook environment, consider setting mode='external', mode='inline' or mode='jupyterlab' to keep the notebook interactive while the dashboard is running...\n",
      "Generating layout...\n",
      "Calculating dependencies...\n",
      "Calculating shap interaction values...\n",
      "Reminder: TreeShap computational complexity is O(TLD^2), where T is the number of trees, L is the maximum number of leaves in any tree and D the maximal depth of any tree. So reducing these will speed up the calculation.\n",
      "Reminder: you can store the explainer (including calculated dependencies) with explainer.dump('explainer.joblib') and reload with e.g. ClassifierExplainer.from_file('explainer.joblib')\n",
      "Registering callbacks...\n",
      "Starting ExplainerDashboard on http://74.129.178.98:8050\n",
      "Dash is running on http://0.0.0.0:8050/\n",
      "\n",
      "Dash is running on http://0.0.0.0:8050/\n",
      "\n",
      "Dash is running on http://0.0.0.0:8050/\n",
      "\n",
      "Dash is running on http://0.0.0.0:8050/\n",
      "\n",
      "Dash is running on http://0.0.0.0:8050/\n",
      "\n",
      "Dash is running on http://0.0.0.0:8050/\n",
      "\n",
      "Dash is running on http://0.0.0.0:8050/\n",
      "\n",
      "Dash is running on http://0.0.0.0:8050/\n",
      "\n",
      "Dash is running on http://0.0.0.0:8050/\n",
      "\n",
      "Dash is running on http://0.0.0.0:8050/\n",
      "\n",
      "Dash is running on http://0.0.0.0:8050/\n",
      "\n",
      "Dash is running on http://0.0.0.0:8050/\n",
      "\n",
      "Dash is running on http://0.0.0.0:8050/\n",
      "\n",
      "Dash is running on http://0.0.0.0:8050/\n",
      "\n",
      "Dash is running on http://0.0.0.0:8050/\n",
      "\n",
      "Dash is running on http://0.0.0.0:8050/\n",
      "\n",
      "Dash is running on http://0.0.0.0:8050/\n",
      "\n",
      "Dash is running on http://0.0.0.0:8050/\n",
      "\n",
      "Dash is running on http://0.0.0.0:8050/\n",
      "\n",
      "Dash is running on http://0.0.0.0:8050/\n",
      "\n",
      "Dash is running on http://0.0.0.0:8050/\n",
      "\n",
      "Dash is running on http://0.0.0.0:8050/\n",
      "\n",
      "Dash is running on http://0.0.0.0:8050/\n",
      "\n",
      "Dash is running on http://0.0.0.0:8050/\n",
      "\n",
      "Dash is running on http://0.0.0.0:8050/\n",
      "\n",
      "Dash is running on http://0.0.0.0:8050/\n",
      "\n",
      "Dash is running on http://0.0.0.0:8050/\n",
      "\n",
      "Dash is running on http://0.0.0.0:8050/\n",
      "\n",
      " * Serving Flask app 'explainerdashboard.dashboards' (lazy loading)\n",
      " * Environment: production\n",
      "   WARNING: This is a development server. Do not use it in a production deployment.\n",
      "   Use a production WSGI server instead.\n",
      " * Debug mode: off\n"
     ]
    },
    {
     "name": "stderr",
     "output_type": "stream",
     "text": [
      " * Running on all addresses.\n",
      "   WARNING: This is a development server. Do not use it in a production deployment.\n",
      " * Running on http://74.129.178.98:8050/ (Press CTRL+C to quit)\n",
      "74.129.178.98 - - [31/Aug/2021 00:24:09] \"GET / HTTP/1.1\" 200 -\n",
      "74.129.178.98 - - [31/Aug/2021 00:24:09] \"GET /_dash-dependencies HTTP/1.1\" 200 -\n",
      "74.129.178.98 - - [31/Aug/2021 00:24:09] \"GET /assets/favicon.ico?m=1630208771.8202608 HTTP/1.1\" 200 -\n",
      "74.129.178.98 - - [31/Aug/2021 00:24:09] \"GET /_dash-layout HTTP/1.1\" 200 -\n",
      "74.129.178.98 - - [31/Aug/2021 00:24:09] \"GET /_dash-component-suites/dash_core_components/async-graph.js HTTP/1.1\" 200 -\n",
      "74.129.178.98 - - [31/Aug/2021 00:24:09] \"POST /_dash-update-component HTTP/1.1\" 200 -\n",
      "74.129.178.98 - - [31/Aug/2021 00:24:09] \"POST /_dash-update-component HTTP/1.1\" 200 -\n",
      "74.129.178.98 - - [31/Aug/2021 00:24:09] \"POST /_dash-update-component HTTP/1.1\" 204 -\n",
      "74.129.178.98 - - [31/Aug/2021 00:24:09] \"POST /_dash-update-component HTTP/1.1\" 200 -\n",
      "74.129.178.98 - - [31/Aug/2021 00:24:09] \"POST /_dash-update-component HTTP/1.1\" 200 -\n",
      "74.129.178.98 - - [31/Aug/2021 00:24:09] \"POST /_dash-update-component HTTP/1.1\" 200 -\n",
      "74.129.178.98 - - [31/Aug/2021 00:24:09] \"POST /_dash-update-component HTTP/1.1\" 200 -\n",
      "74.129.178.98 - - [31/Aug/2021 00:24:09] \"POST /_dash-update-component HTTP/1.1\" 204 -\n",
      "74.129.178.98 - - [31/Aug/2021 00:24:09] \"POST /_dash-update-component HTTP/1.1\" 200 -\n",
      "74.129.178.98 - - [31/Aug/2021 00:24:09] \"POST /_dash-update-component HTTP/1.1\" 200 -\n",
      "74.129.178.98 - - [31/Aug/2021 00:24:09] \"POST /_dash-update-component HTTP/1.1\" 200 -\n",
      "74.129.178.98 - - [31/Aug/2021 00:24:09] \"POST /_dash-update-component HTTP/1.1\" 200 -\n",
      "74.129.178.98 - - [31/Aug/2021 00:24:09] \"POST /_dash-update-component HTTP/1.1\" 200 -\n",
      "74.129.178.98 - - [31/Aug/2021 00:24:09] \"POST /_dash-update-component HTTP/1.1\" 200 -\n",
      "74.129.178.98 - - [31/Aug/2021 00:24:09] \"GET /_dash-component-suites/dash_core_components/async-plotlyjs.js HTTP/1.1\" 200 -\n",
      "74.129.178.98 - - [31/Aug/2021 00:24:11] \"GET /_dash-component-suites/dash_core_components/async-dropdown.js HTTP/1.1\" 200 -\n",
      "74.129.178.98 - - [31/Aug/2021 00:24:56] \"POST /_dash-update-component HTTP/1.1\" 200 -\n"
     ]
    }
   ],
   "source": [
    "db = ExplainerDashboard(explainer,\n",
    "                        tabs=[OverviewTab, FeaturesTab, SHAPTab],\n",
    "                        title='Stock KPIs',\n",
    "                        description='',\n",
    "                        bootstrap=dbc.themes.FLATLY,\n",
    "                        fluid=False,\n",
    "                        header_hide_download=True,\n",
    "                        hide_poweredby=True)\n",
    "\n",
    "db.run(port=8050)"
   ]
  }
 ],
 "metadata": {
  "kernelspec": {
   "display_name": "learn-env",
   "language": "python",
   "name": "learn-env"
  },
  "language_info": {
   "codemirror_mode": {
    "name": "ipython",
    "version": 3
   },
   "file_extension": ".py",
   "mimetype": "text/x-python",
   "name": "python",
   "nbconvert_exporter": "python",
   "pygments_lexer": "ipython3",
   "version": "3.8.5"
  }
 },
 "nbformat": 4,
 "nbformat_minor": 4
}
