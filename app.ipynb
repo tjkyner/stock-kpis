{
 "cells": [
  {
   "cell_type": "markdown",
   "metadata": {},
   "source": [
    "# Imports & Settings"
   ]
  },
  {
   "cell_type": "code",
   "execution_count": 1,
   "metadata": {
    "execution": {
     "iopub.execute_input": "2021-08-30T01:28:49.395885Z",
     "iopub.status.busy": "2021-08-30T01:28:49.394877Z",
     "iopub.status.idle": "2021-08-30T01:28:54.176605Z",
     "shell.execute_reply": "2021-08-30T01:28:54.176605Z",
     "shell.execute_reply.started": "2021-08-30T01:28:49.395885Z"
    },
    "tags": []
   },
   "outputs": [],
   "source": [
    "# Core tools\n",
    "import joblib\n",
    "import pandas as pd\n",
    "\n",
    "# Explainer Dashboard\n",
    "from explainerdashboard.custom import *\n",
    "from explainerdashboard import RegressionExplainer, ExplainerDashboard"
   ]
  },
  {
   "cell_type": "markdown",
   "metadata": {},
   "source": [
    "# S&P 500 Data"
   ]
  },
  {
   "cell_type": "code",
   "execution_count": 2,
   "metadata": {
    "execution": {
     "iopub.execute_input": "2021-08-30T01:28:54.178563Z",
     "iopub.status.busy": "2021-08-30T01:28:54.178563Z",
     "iopub.status.idle": "2021-08-30T01:28:54.192564Z",
     "shell.execute_reply": "2021-08-30T01:28:54.192564Z",
     "shell.execute_reply.started": "2021-08-30T01:28:54.178563Z"
    },
    "tags": []
   },
   "outputs": [],
   "source": [
    "snp = pd.read_csv('data/sp500.csv')"
   ]
  },
  {
   "cell_type": "markdown",
   "metadata": {},
   "source": [
    "# Loading Model Data"
   ]
  },
  {
   "cell_type": "code",
   "execution_count": 3,
   "metadata": {
    "execution": {
     "iopub.execute_input": "2021-08-30T01:28:54.194566Z",
     "iopub.status.busy": "2021-08-30T01:28:54.193564Z",
     "iopub.status.idle": "2021-08-30T01:28:54.208566Z",
     "shell.execute_reply": "2021-08-30T01:28:54.208566Z",
     "shell.execute_reply.started": "2021-08-30T01:28:54.194566Z"
    },
    "tags": []
   },
   "outputs": [],
   "source": [
    "ticker = 'MSFT'"
   ]
  },
  {
   "cell_type": "code",
   "execution_count": 4,
   "metadata": {
    "execution": {
     "iopub.execute_input": "2021-08-30T01:28:54.209608Z",
     "iopub.status.busy": "2021-08-30T01:28:54.209608Z",
     "iopub.status.idle": "2021-08-30T01:28:54.240595Z",
     "shell.execute_reply": "2021-08-30T01:28:54.240595Z",
     "shell.execute_reply.started": "2021-08-30T01:28:54.209608Z"
    },
    "tags": []
   },
   "outputs": [],
   "source": [
    "data = pd.read_csv(f'data/preprocessed_data/{ticker}_preprocessed.csv')\n",
    "data = data.drop(columns=['Report Date', 'Price Date', 'Open', 'High', 'Low', 'Adj Close', 'Volume'])\n",
    "data.columns = [col.replace('.', '') for col in data.columns]\n",
    "X = data.drop(columns=['Close'])\n",
    "y = data.Close"
   ]
  },
  {
   "cell_type": "code",
   "execution_count": 5,
   "metadata": {
    "execution": {
     "iopub.execute_input": "2021-08-30T01:28:54.241600Z",
     "iopub.status.busy": "2021-08-30T01:28:54.241600Z",
     "iopub.status.idle": "2021-08-30T01:28:54.303603Z",
     "shell.execute_reply": "2021-08-30T01:28:54.302638Z",
     "shell.execute_reply.started": "2021-08-30T01:28:54.241600Z"
    },
    "tags": []
   },
   "outputs": [
    {
     "data": {
      "text/plain": [
       "xgboost.sklearn.XGBRFRegressor"
      ]
     },
     "execution_count": 5,
     "metadata": {},
     "output_type": "execute_result"
    }
   ],
   "source": [
    "model = joblib.load(f'models/{ticker}_model.joblib')\n",
    "type(model)"
   ]
  },
  {
   "cell_type": "code",
   "execution_count": 6,
   "metadata": {
    "execution": {
     "iopub.execute_input": "2021-08-30T01:28:54.304604Z",
     "iopub.status.busy": "2021-08-30T01:28:54.303603Z",
     "iopub.status.idle": "2021-08-30T01:28:54.319640Z",
     "shell.execute_reply": "2021-08-30T01:28:54.318634Z",
     "shell.execute_reply.started": "2021-08-30T01:28:54.304604Z"
    },
    "tags": []
   },
   "outputs": [
    {
     "data": {
      "text/plain": [
       "XGBRFRegressor(base_score=0.5, booster='gbtree', colsample_bylevel=0.2,\n",
       "               colsample_bytree=0.2, gamma=50, gpu_id=-1,\n",
       "               importance_type='gain', interaction_constraints='',\n",
       "               learning_rate=0.5, max_delta_step=0, max_depth=4,\n",
       "               min_child_weight=1, missing=nan, monotone_constraints='()',\n",
       "               n_estimators=100, n_jobs=0, num_parallel_tree=100,\n",
       "               objective='reg:squarederror', random_state=42, reg_alpha=0,\n",
       "               scale_pos_weight=1, tree_method='exact', validate_parameters=1,\n",
       "               verbosity=None)"
      ]
     },
     "execution_count": 6,
     "metadata": {},
     "output_type": "execute_result"
    }
   ],
   "source": [
    "model"
   ]
  },
  {
   "cell_type": "markdown",
   "metadata": {},
   "source": [
    "# Explainer"
   ]
  },
  {
   "cell_type": "code",
   "execution_count": 7,
   "metadata": {
    "execution": {
     "iopub.execute_input": "2021-08-30T01:28:54.320635Z",
     "iopub.status.busy": "2021-08-30T01:28:54.319640Z",
     "iopub.status.idle": "2021-08-30T01:28:54.397473Z",
     "shell.execute_reply": "2021-08-30T01:28:54.396559Z",
     "shell.execute_reply.started": "2021-08-30T01:28:54.320635Z"
    },
    "tags": []
   },
   "outputs": [
    {
     "name": "stdout",
     "output_type": "stream",
     "text": [
      "Generating self.shap_explainer = shap.TreeExplainer(model)\n"
     ]
    }
   ],
   "source": [
    "explainer = RegressionExplainer(model, X, y, shap='tree')"
   ]
  },
  {
   "cell_type": "markdown",
   "metadata": {},
   "source": [
    "# Custom Layout"
   ]
  },
  {
   "cell_type": "markdown",
   "metadata": {},
   "source": [
    "## Overview Tab"
   ]
  },
  {
   "cell_type": "code",
   "execution_count": 28,
   "metadata": {
    "execution": {
     "iopub.execute_input": "2021-08-30T01:44:54.073875Z",
     "iopub.status.busy": "2021-08-30T01:44:54.072875Z",
     "iopub.status.idle": "2021-08-30T01:44:54.081904Z",
     "shell.execute_reply": "2021-08-30T01:44:54.081904Z",
     "shell.execute_reply.started": "2021-08-30T01:44:54.072875Z"
    },
    "tags": []
   },
   "outputs": [],
   "source": [
    "class OverviewTab(ExplainerComponent):\n",
    "    def __init__(self, explainer, name=None, **kwargs):\n",
    "        super().__init__(explainer, title='Overview')\n",
    "        self.name = snp[snp.Symbol == ticker].Security.values[0]\n",
    "        self.sector = snp[snp.Symbol == ticker]['GICS Sector'].values[0]\n",
    "        self.industry = snp[snp.Symbol == ticker]['GICS Sub-Industry'].values[0]\n",
    "        self.hq = snp[snp.Symbol == ticker]['Headquarters Location'].values[0]\n",
    "        self.founded = snp[snp.Symbol == ticker].Founded.values[0]\n",
    "        \n",
    "    def layout(self):\n",
    "        return dbc.Container([\n",
    "            dbc.Row([\n",
    "                dbc.Col([\n",
    "                    html.H1('Microsoft (MSFT)'),\n",
    "                    html.Table(\n",
    "                        children=[\n",
    "                            html.Tr([\n",
    "                                html.Td(html.B('Sector:'), style={'marginRight': '20px'}),\n",
    "                                html.Td(self.sector),\n",
    "                                html.Td(html.B('Headquarters:'), style={'marginRight': '20px'}),\n",
    "                                html.Td(self.hq)\n",
    "                            ]),\n",
    "                            html.Tr([\n",
    "                                html.Td(html.B('Industry:'), style={'marginRight': '20px'}),\n",
    "                                html.Td(self.industry),\n",
    "                                html.Td(html.B('Founded:'), style={'marginRight': '20px'}),\n",
    "                                html.Td(self.founded)\n",
    "                            ])\n",
    "                        ], \n",
    "                        style={'border-collapse': 'separate', \n",
    "                               'border-spacing': '20px 5px',\n",
    "                               'margin-left': '-20px'}\n",
    "                    )\n",
    "                ])\n",
    "            ]),\n",
    "            dbc.Row([\n",
    "                dbc.Col(['Stock chart here'])\n",
    "            ])\n",
    "        ])"
   ]
  },
  {
   "cell_type": "markdown",
   "metadata": {},
   "source": [
    "## Features Tab"
   ]
  },
  {
   "cell_type": "code",
   "execution_count": 11,
   "metadata": {
    "execution": {
     "iopub.execute_input": "2021-08-30T01:29:35.097955Z",
     "iopub.status.busy": "2021-08-30T01:29:35.097955Z",
     "iopub.status.idle": "2021-08-30T01:29:35.105956Z",
     "shell.execute_reply": "2021-08-30T01:29:35.104955Z",
     "shell.execute_reply.started": "2021-08-30T01:29:35.097955Z"
    },
    "tags": []
   },
   "outputs": [],
   "source": [
    "class FeaturesTab(ExplainerComponent):\n",
    "    def __init__(self, explainer, name=None, **kwargs):\n",
    "        super().__init__(explainer, title='Features')\n",
    "    \n",
    "    def layout(self):\n",
    "        return html.H3('Features explorer here')"
   ]
  },
  {
   "cell_type": "markdown",
   "metadata": {},
   "source": [
    "## SHAP Tab"
   ]
  },
  {
   "cell_type": "code",
   "execution_count": 12,
   "metadata": {
    "execution": {
     "iopub.execute_input": "2021-08-30T01:29:36.458495Z",
     "iopub.status.busy": "2021-08-30T01:29:36.458495Z",
     "iopub.status.idle": "2021-08-30T01:29:36.471526Z",
     "shell.execute_reply": "2021-08-30T01:29:36.470526Z",
     "shell.execute_reply.started": "2021-08-30T01:29:36.458495Z"
    },
    "tags": []
   },
   "outputs": [],
   "source": [
    "class SHAPTab(ExplainerComponent):\n",
    "    def __init__(self, explainer, name=None, **kwargs):\n",
    "        super().__init__(explainer, title='SHAP Analysis')\n",
    "        \n",
    "        self.feat_imps = ImportancesComponent(explainer,\n",
    "                                              depth=15,\n",
    "                                              no_permutations=True,\n",
    "                                              hide_popout=True)\n",
    "        \n",
    "        self.depend = ShapDependenceComponent(explainer, \n",
    "                                              hide_popout=True,\n",
    "                                              hide_outliers=True)\n",
    "    \n",
    "    def layout(self):\n",
    "        return dbc.Row([\n",
    "            dbc.Col([self.feat_imps.layout()]),\n",
    "            dbc.Col([self.depend.layout()])\n",
    "        ])"
   ]
  },
  {
   "cell_type": "markdown",
   "metadata": {},
   "source": [
    "# Running Explainer Dashboard"
   ]
  },
  {
   "cell_type": "code",
   "execution_count": null,
   "metadata": {
    "execution": {
     "iopub.execute_input": "2021-08-30T01:44:56.157275Z",
     "iopub.status.busy": "2021-08-30T01:44:56.156274Z"
    },
    "tags": []
   },
   "outputs": [
    {
     "name": "stdout",
     "output_type": "stream",
     "text": [
      "Building ExplainerDashboard..\n",
      "Detected notebook environment, consider setting mode='external', mode='inline' or mode='jupyterlab' to keep the notebook interactive while the dashboard is running...\n",
      "Generating layout...\n",
      "Calculating dependencies...\n",
      "Reminder: you can store the explainer (including calculated dependencies) with explainer.dump('explainer.joblib') and reload with e.g. ClassifierExplainer.from_file('explainer.joblib')\n",
      "Registering callbacks...\n",
      "Starting ExplainerDashboard on http://74.129.178.98:8050\n",
      "Dash is running on http://0.0.0.0:8050/\n",
      "\n",
      "Dash is running on http://0.0.0.0:8050/\n",
      "\n",
      "Dash is running on http://0.0.0.0:8050/\n",
      "\n",
      "Dash is running on http://0.0.0.0:8050/\n",
      "\n",
      "Dash is running on http://0.0.0.0:8050/\n",
      "\n",
      "Dash is running on http://0.0.0.0:8050/\n",
      "\n",
      "Dash is running on http://0.0.0.0:8050/\n",
      "\n",
      "Dash is running on http://0.0.0.0:8050/\n",
      "\n",
      "Dash is running on http://0.0.0.0:8050/\n",
      "\n",
      " * Serving Flask app 'explainerdashboard.dashboards' (lazy loading)\n",
      " * Environment: production\n",
      "   WARNING: This is a development server. Do not use it in a production deployment.\n",
      "   Use a production WSGI server instead.\n",
      " * Debug mode: off\n"
     ]
    },
    {
     "name": "stderr",
     "output_type": "stream",
     "text": [
      " * Running on all addresses.\n",
      "   WARNING: This is a development server. Do not use it in a production deployment.\n",
      " * Running on http://74.129.178.98:8050/ (Press CTRL+C to quit)\n",
      "74.129.178.98 - - [29/Aug/2021 21:44:58] \"GET / HTTP/1.1\" 200 -\n",
      "74.129.178.98 - - [29/Aug/2021 21:44:59] \"GET /_dash-layout HTTP/1.1\" 200 -\n",
      "74.129.178.98 - - [29/Aug/2021 21:44:59] \"GET /_dash-dependencies HTTP/1.1\" 200 -\n",
      "74.129.178.98 - - [29/Aug/2021 21:44:59] \"GET /assets/favicon.ico?m=1630208771.8202608 HTTP/1.1\" 200 -\n",
      "74.129.178.98 - - [29/Aug/2021 21:44:59] \"POST /_dash-update-component HTTP/1.1\" 200 -\n",
      "74.129.178.98 - - [29/Aug/2021 21:44:59] \"POST /_dash-update-component HTTP/1.1\" 200 -\n",
      "74.129.178.98 - - [29/Aug/2021 21:44:59] \"POST /_dash-update-component HTTP/1.1\" 204 -\n",
      "74.129.178.98 - - [29/Aug/2021 21:44:59] \"POST /_dash-update-component HTTP/1.1\" 200 -\n",
      "74.129.178.98 - - [29/Aug/2021 21:44:59] \"POST /_dash-update-component HTTP/1.1\" 200 -\n",
      "74.129.178.98 - - [29/Aug/2021 21:44:59] \"POST /_dash-update-component HTTP/1.1\" 200 -\n",
      "74.129.178.98 - - [29/Aug/2021 21:44:59] \"POST /_dash-update-component HTTP/1.1\" 200 -\n",
      "74.129.178.98 - - [29/Aug/2021 21:44:59] \"POST /_dash-update-component HTTP/1.1\" 200 -\n",
      "74.129.178.98 - - [29/Aug/2021 21:44:59] \"POST /_dash-update-component HTTP/1.1\" 200 -\n",
      "74.129.178.98 - - [29/Aug/2021 21:45:10] \"GET /_dash-component-suites/dash_core_components/dash_core_components-shared.js.map HTTP/1.1\" 200 -\n",
      "74.129.178.98 - - [29/Aug/2021 21:45:10] \"GET /_dash-component-suites/dash_table/bundle.js.map HTTP/1.1\" 200 -\n",
      "74.129.178.98 - - [29/Aug/2021 21:45:10] \"GET /_dash-component-suites/dash_html_components/dash_html_components.min.js.map HTTP/1.1\" 200 -\n",
      "74.129.178.98 - - [29/Aug/2021 21:45:10] \"GET /_dash-component-suites/dash_core_components/dash_core_components.js.map HTTP/1.1\" 200 -\n"
     ]
    }
   ],
   "source": [
    "db = ExplainerDashboard(explainer,\n",
    "                        tabs=[OverviewTab, FeaturesTab, SHAPTab],\n",
    "                        title='Stock KPIs',\n",
    "                        bootstrap=dbc.themes.FLATLY,\n",
    "                        header_hide_download=True,\n",
    "                        hide_poweredby=True)\n",
    "\n",
    "db.run(port=8050)"
   ]
  }
 ],
 "metadata": {
  "kernelspec": {
   "display_name": "learn-env",
   "language": "python",
   "name": "learn-env"
  },
  "language_info": {
   "codemirror_mode": {
    "name": "ipython",
    "version": 3
   },
   "file_extension": ".py",
   "mimetype": "text/x-python",
   "name": "python",
   "nbconvert_exporter": "python",
   "pygments_lexer": "ipython3",
   "version": "3.8.5"
  }
 },
 "nbformat": 4,
 "nbformat_minor": 4
}
