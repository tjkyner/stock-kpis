{
 "cells": [
  {
   "cell_type": "markdown",
   "metadata": {},
   "source": [
    "# Imports & Settings"
   ]
  },
  {
   "cell_type": "code",
   "execution_count": 1,
   "metadata": {
    "execution": {
     "iopub.execute_input": "2021-08-29T05:03:38.338574Z",
     "iopub.status.busy": "2021-08-29T05:03:38.337574Z",
     "iopub.status.idle": "2021-08-29T05:03:43.251474Z",
     "shell.execute_reply": "2021-08-29T05:03:43.251474Z",
     "shell.execute_reply.started": "2021-08-29T05:03:38.338574Z"
    },
    "tags": []
   },
   "outputs": [],
   "source": [
    "import joblib\n",
    "import pandas as pd\n",
    "from explainerdashboard import RegressionExplainer, ExplainerDashboard"
   ]
  },
  {
   "cell_type": "markdown",
   "metadata": {},
   "source": [
    "# Loading Model Data"
   ]
  },
  {
   "cell_type": "code",
   "execution_count": 2,
   "metadata": {
    "execution": {
     "iopub.execute_input": "2021-08-29T05:03:43.253443Z",
     "iopub.status.busy": "2021-08-29T05:03:43.253443Z",
     "iopub.status.idle": "2021-08-29T05:03:43.283444Z",
     "shell.execute_reply": "2021-08-29T05:03:43.283444Z",
     "shell.execute_reply.started": "2021-08-29T05:03:43.253443Z"
    },
    "tags": []
   },
   "outputs": [],
   "source": [
    "data = pd.read_csv('data/preprocessed_data/MSFT_preprocessed.csv')\n",
    "data = data.drop(columns=['Report Date', 'Price Date', 'Open', 'High', 'Low', 'Adj Close', 'Volume'])\n",
    "data.columns = [col.replace('.', '') for col in data.columns]\n",
    "X = data.drop(columns=['Close'])\n",
    "y = data.Close"
   ]
  },
  {
   "cell_type": "code",
   "execution_count": 3,
   "metadata": {
    "execution": {
     "iopub.execute_input": "2021-08-29T05:03:43.285443Z",
     "iopub.status.busy": "2021-08-29T05:03:43.284443Z",
     "iopub.status.idle": "2021-08-29T05:03:43.331441Z",
     "shell.execute_reply": "2021-08-29T05:03:43.331441Z",
     "shell.execute_reply.started": "2021-08-29T05:03:43.285443Z"
    },
    "tags": []
   },
   "outputs": [
    {
     "data": {
      "text/plain": [
       "xgboost.sklearn.XGBRFRegressor"
      ]
     },
     "execution_count": 3,
     "metadata": {},
     "output_type": "execute_result"
    }
   ],
   "source": [
    "model = joblib.load('models/MSFT_model.joblib')\n",
    "type(model)"
   ]
  },
  {
   "cell_type": "code",
   "execution_count": 4,
   "metadata": {
    "execution": {
     "iopub.execute_input": "2021-08-29T05:03:43.333444Z",
     "iopub.status.busy": "2021-08-29T05:03:43.332443Z",
     "iopub.status.idle": "2021-08-29T05:03:43.347441Z",
     "shell.execute_reply": "2021-08-29T05:03:43.347441Z",
     "shell.execute_reply.started": "2021-08-29T05:03:43.333444Z"
    },
    "tags": []
   },
   "outputs": [
    {
     "data": {
      "text/plain": [
       "XGBRFRegressor(base_score=0.5, booster='gbtree', colsample_bylevel=0.2,\n",
       "               colsample_bytree=0.2, gamma=50, gpu_id=-1,\n",
       "               importance_type='gain', interaction_constraints='',\n",
       "               learning_rate=0.5, max_delta_step=0, max_depth=4,\n",
       "               min_child_weight=1, missing=nan, monotone_constraints='()',\n",
       "               n_estimators=100, n_jobs=0, num_parallel_tree=100,\n",
       "               objective='reg:squarederror', random_state=42, reg_alpha=0,\n",
       "               scale_pos_weight=1, tree_method='exact', validate_parameters=1,\n",
       "               verbosity=None)"
      ]
     },
     "execution_count": 4,
     "metadata": {},
     "output_type": "execute_result"
    }
   ],
   "source": [
    "model"
   ]
  },
  {
   "cell_type": "markdown",
   "metadata": {},
   "source": [
    "# Building Explainer"
   ]
  },
  {
   "cell_type": "code",
   "execution_count": 5,
   "metadata": {
    "execution": {
     "iopub.execute_input": "2021-08-29T05:03:43.348442Z",
     "iopub.status.busy": "2021-08-29T05:03:43.348442Z",
     "iopub.status.idle": "2021-08-29T05:03:43.410443Z",
     "shell.execute_reply": "2021-08-29T05:03:43.410443Z",
     "shell.execute_reply.started": "2021-08-29T05:03:43.348442Z"
    },
    "tags": []
   },
   "outputs": [
    {
     "name": "stdout",
     "output_type": "stream",
     "text": [
      "Generating self.shap_explainer = shap.TreeExplainer(model)\n"
     ]
    }
   ],
   "source": [
    "explainer = RegressionExplainer(model, X, y, shap='tree')"
   ]
  },
  {
   "cell_type": "markdown",
   "metadata": {},
   "source": [
    "# Running Explainer Dashboard"
   ]
  },
  {
   "cell_type": "code",
   "execution_count": 6,
   "metadata": {
    "execution": {
     "iopub.execute_input": "2021-08-29T05:03:43.411443Z",
     "iopub.status.busy": "2021-08-29T05:03:43.411443Z",
     "iopub.status.idle": "2021-08-29T05:07:08.542254Z",
     "shell.execute_reply": "2021-08-29T05:07:08.541312Z",
     "shell.execute_reply.started": "2021-08-29T05:03:43.411443Z"
    },
    "tags": []
   },
   "outputs": [
    {
     "name": "stdout",
     "output_type": "stream",
     "text": [
      "Building ExplainerDashboard..\n",
      "Detected notebook environment, consider setting mode='external', mode='inline' or mode='jupyterlab' to keep the notebook interactive while the dashboard is running...\n",
      "The explainer object has no decision_trees property. so setting decision_trees=False...\n",
      "Warning: calculating shap interaction values can be slow! Pass shap_interaction=False to remove interactions tab.\n",
      "Generating layout...\n",
      "Calculating shap values...\n",
      "Calculating predictions...\n",
      "Calculating residuals...\n",
      "Calculating absolute residuals...\n",
      "Calculating shap interaction values...\n",
      "Reminder: TreeShap computational complexity is O(TLD^2), where T is the number of trees, L is the maximum number of leaves in any tree and D the maximal depth of any tree. So reducing these will speed up the calculation.\n",
      "Calculating dependencies...\n",
      "Calculating importances...\n",
      "Reminder: you can store the explainer (including calculated dependencies) with explainer.dump('explainer.joblib') and reload with e.g. ClassifierExplainer.from_file('explainer.joblib')\n",
      "Registering callbacks...\n",
      "Starting ExplainerDashboard on http://74.129.178.98:8050\n",
      "Dash is running on http://0.0.0.0:8050/\n",
      "\n",
      " * Serving Flask app 'explainerdashboard.dashboards' (lazy loading)\n",
      " * Environment: production\n",
      "   WARNING: This is a development server. Do not use it in a production deployment.\n",
      "   Use a production WSGI server instead.\n",
      " * Debug mode: off\n"
     ]
    },
    {
     "name": "stderr",
     "output_type": "stream",
     "text": [
      " * Running on all addresses.\n",
      "   WARNING: This is a development server. Do not use it in a production deployment.\n",
      " * Running on http://74.129.178.98:8050/ (Press CTRL+C to quit)\n",
      "74.129.178.98 - - [29/Aug/2021 01:03:50] \"GET / HTTP/1.1\" 200 -\n",
      "74.129.178.98 - - [29/Aug/2021 01:03:50] \"GET /assets/bootstrap.min.css?m=1630208771.81926 HTTP/1.1\" 304 -\n",
      "74.129.178.98 - - [29/Aug/2021 01:03:50] \"GET /_dash-dependencies HTTP/1.1\" 200 -\n",
      "74.129.178.98 - - [29/Aug/2021 01:03:51] \"GET /_dash-layout HTTP/1.1\" 200 -\n",
      "74.129.178.98 - - [29/Aug/2021 01:03:51] \"GET /assets/favicon.ico?m=1630208771.8202608 HTTP/1.1\" 200 -\n",
      "74.129.178.98 - - [29/Aug/2021 01:03:51] \"GET /_dash-component-suites/dash_core_components/async-graph.js HTTP/1.1\" 200 -\n",
      "74.129.178.98 - - [29/Aug/2021 01:03:51] \"POST /_dash-update-component HTTP/1.1\" 200 -\n",
      "74.129.178.98 - - [29/Aug/2021 01:03:51] \"POST /_dash-update-component HTTP/1.1\" 200 -\n",
      "74.129.178.98 - - [29/Aug/2021 01:03:51] \"POST /_dash-update-component HTTP/1.1\" 200 -\n",
      "74.129.178.98 - - [29/Aug/2021 01:03:51] \"POST /_dash-update-component HTTP/1.1\" 204 -\n",
      "74.129.178.98 - - [29/Aug/2021 01:03:51] \"POST /_dash-update-component HTTP/1.1\" 200 -\n",
      "74.129.178.98 - - [29/Aug/2021 01:03:51] \"GET /_dash-component-suites/dash_core_components/async-plotlyjs.js HTTP/1.1\" 200 -\n",
      "74.129.178.98 - - [29/Aug/2021 01:03:51] \"POST /_dash-update-component HTTP/1.1\" 200 -\n",
      "74.129.178.98 - - [29/Aug/2021 01:03:51] \"POST /_dash-update-component HTTP/1.1\" 200 -\n",
      "74.129.178.98 - - [29/Aug/2021 01:03:51] \"POST /_dash-update-component HTTP/1.1\" 200 -\n",
      "74.129.178.98 - - [29/Aug/2021 01:03:51] \"POST /_dash-update-component HTTP/1.1\" 200 -\n",
      "74.129.178.98 - - [29/Aug/2021 01:03:51] \"POST /_dash-update-component HTTP/1.1\" 200 -\n",
      "74.129.178.98 - - [29/Aug/2021 01:03:51] \"POST /_dash-update-component HTTP/1.1\" 200 -\n",
      "74.129.178.98 - - [29/Aug/2021 01:03:51] \"POST /_dash-update-component HTTP/1.1\" 200 -\n",
      "74.129.178.98 - - [29/Aug/2021 01:03:51] \"POST /_dash-update-component HTTP/1.1\" 200 -\n",
      "74.129.178.98 - - [29/Aug/2021 01:03:51] \"POST /_dash-update-component HTTP/1.1\" 200 -\n",
      "74.129.178.98 - - [29/Aug/2021 01:03:51] \"POST /_dash-update-component HTTP/1.1\" 200 -\n",
      "74.129.178.98 - - [29/Aug/2021 01:03:51] \"POST /_dash-update-component HTTP/1.1\" 200 -\n",
      "74.129.178.98 - - [29/Aug/2021 01:03:51] \"POST /_dash-update-component HTTP/1.1\" 200 -\n",
      "74.129.178.98 - - [29/Aug/2021 01:03:51] \"POST /_dash-update-component HTTP/1.1\" 200 -\n",
      "74.129.178.98 - - [29/Aug/2021 01:03:51] \"POST /_dash-update-component HTTP/1.1\" 200 -\n",
      "74.129.178.98 - - [29/Aug/2021 01:03:51] \"POST /_dash-update-component HTTP/1.1\" 200 -\n",
      "74.129.178.98 - - [29/Aug/2021 01:03:51] \"POST /_dash-update-component HTTP/1.1\" 200 -\n",
      "74.129.178.98 - - [29/Aug/2021 01:03:51] \"POST /_dash-update-component HTTP/1.1\" 200 -\n",
      "74.129.178.98 - - [29/Aug/2021 01:03:51] \"POST /_dash-update-component HTTP/1.1\" 200 -\n",
      "74.129.178.98 - - [29/Aug/2021 01:03:51] \"POST /_dash-update-component HTTP/1.1\" 200 -\n",
      "74.129.178.98 - - [29/Aug/2021 01:03:51] \"POST /_dash-update-component HTTP/1.1\" 200 -\n",
      "74.129.178.98 - - [29/Aug/2021 01:03:51] \"POST /_dash-update-component HTTP/1.1\" 200 -\n",
      "74.129.178.98 - - [29/Aug/2021 01:03:52] \"POST /_dash-update-component HTTP/1.1\" 204 -\n",
      "74.129.178.98 - - [29/Aug/2021 01:03:52] \"POST /_dash-update-component HTTP/1.1\" 200 -\n",
      "74.129.178.98 - - [29/Aug/2021 01:03:52] \"POST /_dash-update-component HTTP/1.1\" 204 -\n",
      "74.129.178.98 - - [29/Aug/2021 01:03:52] \"POST /_dash-update-component HTTP/1.1\" 204 -\n",
      "74.129.178.98 - - [29/Aug/2021 01:03:52] \"POST /_dash-update-component HTTP/1.1\" 200 -\n",
      "74.129.178.98 - - [29/Aug/2021 01:03:52] \"POST /_dash-update-component HTTP/1.1\" 200 -\n",
      "74.129.178.98 - - [29/Aug/2021 01:03:52] \"POST /_dash-update-component HTTP/1.1\" 200 -\n",
      "74.129.178.98 - - [29/Aug/2021 01:03:52] \"POST /_dash-update-component HTTP/1.1\" 200 -\n",
      "74.129.178.98 - - [29/Aug/2021 01:03:52] \"POST /_dash-update-component HTTP/1.1\" 200 -\n",
      "74.129.178.98 - - [29/Aug/2021 01:03:52] \"POST /_dash-update-component HTTP/1.1\" 200 -\n",
      "74.129.178.98 - - [29/Aug/2021 01:03:52] \"POST /_dash-update-component HTTP/1.1\" 200 -\n",
      "74.129.178.98 - - [29/Aug/2021 01:03:52] \"POST /_dash-update-component HTTP/1.1\" 200 -\n",
      "74.129.178.98 - - [29/Aug/2021 01:03:52] \"POST /_dash-update-component HTTP/1.1\" 200 -\n",
      "74.129.178.98 - - [29/Aug/2021 01:03:52] \"POST /_dash-update-component HTTP/1.1\" 200 -\n",
      "74.129.178.98 - - [29/Aug/2021 01:03:52] \"POST /_dash-update-component HTTP/1.1\" 200 -\n",
      "74.129.178.98 - - [29/Aug/2021 01:03:52] \"POST /_dash-update-component HTTP/1.1\" 200 -\n",
      "74.129.178.98 - - [29/Aug/2021 01:03:52] \"POST /_dash-update-component HTTP/1.1\" 200 -\n",
      "74.129.178.98 - - [29/Aug/2021 01:03:52] \"POST /_dash-update-component HTTP/1.1\" 200 -\n",
      "74.129.178.98 - - [29/Aug/2021 01:03:52] \"POST /_dash-update-component HTTP/1.1\" 200 -\n",
      "74.129.178.98 - - [29/Aug/2021 01:03:52] \"POST /_dash-update-component HTTP/1.1\" 200 -\n",
      "74.129.178.98 - - [29/Aug/2021 01:03:52] \"POST /_dash-update-component HTTP/1.1\" 200 -\n",
      "74.129.178.98 - - [29/Aug/2021 01:03:53] \"POST /_dash-update-component HTTP/1.1\" 200 -\n",
      "74.129.178.98 - - [29/Aug/2021 01:03:53] \"POST /_dash-update-component HTTP/1.1\" 200 -\n",
      "74.129.178.98 - - [29/Aug/2021 01:03:53] \"POST /_dash-update-component HTTP/1.1\" 200 -\n",
      "74.129.178.98 - - [29/Aug/2021 01:03:53] \"POST /_dash-update-component HTTP/1.1\" 200 -\n",
      "74.129.178.98 - - [29/Aug/2021 01:03:53] \"POST /_dash-update-component HTTP/1.1\" 200 -\n",
      "74.129.178.98 - - [29/Aug/2021 01:03:53] \"POST /_dash-update-component HTTP/1.1\" 200 -\n",
      "74.129.178.98 - - [29/Aug/2021 01:03:53] \"POST /_dash-update-component HTTP/1.1\" 200 -\n",
      "74.129.178.98 - - [29/Aug/2021 01:03:53] \"POST /_dash-update-component HTTP/1.1\" 200 -\n",
      "74.129.178.98 - - [29/Aug/2021 01:03:53] \"POST /_dash-update-component HTTP/1.1\" 200 -\n",
      "74.129.178.98 - - [29/Aug/2021 01:03:53] \"POST /_dash-update-component HTTP/1.1\" 200 -\n",
      "74.129.178.98 - - [29/Aug/2021 01:03:53] \"POST /_dash-update-component HTTP/1.1\" 200 -\n",
      "74.129.178.98 - - [29/Aug/2021 01:03:53] \"POST /_dash-update-component HTTP/1.1\" 200 -\n",
      "74.129.178.98 - - [29/Aug/2021 01:03:53] \"POST /_dash-update-component HTTP/1.1\" 200 -\n",
      "74.129.178.98 - - [29/Aug/2021 01:03:53] \"POST /_dash-update-component HTTP/1.1\" 200 -\n",
      "74.129.178.98 - - [29/Aug/2021 01:03:54] \"POST /_dash-update-component HTTP/1.1\" 200 -\n",
      "74.129.178.98 - - [29/Aug/2021 01:03:54] \"POST /_dash-update-component HTTP/1.1\" 200 -\n",
      "74.129.178.98 - - [29/Aug/2021 01:04:36] \"GET /_dash-component-suites/dash_core_components/async-dropdown.js HTTP/1.1\" 200 -\n",
      "74.129.178.98 - - [29/Aug/2021 01:04:36] \"GET /_dash-component-suites/dash_core_components/async-slider.js HTTP/1.1\" 200 -\n",
      "74.129.178.98 - - [29/Aug/2021 01:05:33] \"POST /_dash-update-component HTTP/1.1\" 200 -\n",
      "74.129.178.98 - - [29/Aug/2021 01:05:33] \"POST /_dash-update-component HTTP/1.1\" 200 -\n",
      "74.129.178.98 - - [29/Aug/2021 01:05:35] \"POST /_dash-update-component HTTP/1.1\" 200 -\n",
      "74.129.178.98 - - [29/Aug/2021 01:05:35] \"POST /_dash-update-component HTTP/1.1\" 200 -\n",
      "74.129.178.98 - - [29/Aug/2021 01:05:53] \"POST /_dash-update-component HTTP/1.1\" 200 -\n",
      "74.129.178.98 - - [29/Aug/2021 01:05:53] \"POST /_dash-update-component HTTP/1.1\" 200 -\n",
      "74.129.178.98 - - [29/Aug/2021 01:05:53] \"POST /_dash-update-component HTTP/1.1\" 200 -\n",
      "74.129.178.98 - - [29/Aug/2021 01:05:53] \"POST /_dash-update-component HTTP/1.1\" 200 -\n",
      "74.129.178.98 - - [29/Aug/2021 01:05:53] \"POST /_dash-update-component HTTP/1.1\" 200 -\n",
      "74.129.178.98 - - [29/Aug/2021 01:06:06] \"POST /_dash-update-component HTTP/1.1\" 200 -\n",
      "74.129.178.98 - - [29/Aug/2021 01:06:06] \"POST /_dash-update-component HTTP/1.1\" 200 -\n",
      "74.129.178.98 - - [29/Aug/2021 01:06:06] \"POST /_dash-update-component HTTP/1.1\" 200 -\n",
      "74.129.178.98 - - [29/Aug/2021 01:06:06] \"POST /_dash-update-component HTTP/1.1\" 200 -\n",
      "74.129.178.98 - - [29/Aug/2021 01:06:06] \"POST /_dash-update-component HTTP/1.1\" 200 -\n",
      "74.129.178.98 - - [29/Aug/2021 01:06:13] \"POST /_dash-update-component HTTP/1.1\" 200 -\n",
      "74.129.178.98 - - [29/Aug/2021 01:06:13] \"POST /_dash-update-component HTTP/1.1\" 200 -\n"
     ]
    }
   ],
   "source": [
    "db = ExplainerDashboard(explainer,\n",
    "                        title='Stock KPIs',\n",
    "                        header_hide_download=True,\n",
    "                        hide_poweredby=True)\n",
    "db.run(port=8050)"
   ]
  }
 ],
 "metadata": {
  "kernelspec": {
   "display_name": "learn-env",
   "language": "python",
   "name": "learn-env"
  },
  "language_info": {
   "codemirror_mode": {
    "name": "ipython",
    "version": 3
   },
   "file_extension": ".py",
   "mimetype": "text/x-python",
   "name": "python",
   "nbconvert_exporter": "python",
   "pygments_lexer": "ipython3",
   "version": "3.8.5"
  }
 },
 "nbformat": 4,
 "nbformat_minor": 4
}
