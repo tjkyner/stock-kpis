{
 "cells": [
  {
   "cell_type": "markdown",
   "metadata": {},
   "source": [
    "# Imports & Settings"
   ]
  },
  {
   "cell_type": "code",
   "execution_count": 1,
   "metadata": {
    "execution": {
     "iopub.execute_input": "2021-09-07T23:31:35.825274Z",
     "iopub.status.busy": "2021-09-07T23:31:35.825274Z",
     "iopub.status.idle": "2021-09-07T23:32:10.004420Z",
     "shell.execute_reply": "2021-09-07T23:32:10.004420Z",
     "shell.execute_reply.started": "2021-09-07T23:31:35.825274Z"
    },
    "tags": []
   },
   "outputs": [],
   "source": [
    "# Core tools\n",
    "import joblib\n",
    "import pandas as pd\n",
    "\n",
    "# Company info\n",
    "import yfinance as yf\n",
    "\n",
    "# Dash\n",
    "from dash.dependencies import Input, Output\n",
    "\n",
    "# Explainer Dashboard\n",
    "from explainerdashboard.custom import *\n",
    "from explainerdashboard import RegressionExplainer, ExplainerDashboard"
   ]
  },
  {
   "cell_type": "markdown",
   "metadata": {},
   "source": [
    "# Setting Ticker\n",
    "Until functionality is built directly into the dashboard for switching between companies, the ticker to be analyzed will need to be manually specified here."
   ]
  },
  {
   "cell_type": "code",
   "execution_count": 2,
   "metadata": {
    "execution": {
     "iopub.execute_input": "2021-09-07T23:32:10.005421Z",
     "iopub.status.busy": "2021-09-07T23:32:10.005421Z",
     "iopub.status.idle": "2021-09-07T23:32:10.020421Z",
     "shell.execute_reply": "2021-09-07T23:32:10.020421Z",
     "shell.execute_reply.started": "2021-09-07T23:32:10.005421Z"
    },
    "tags": []
   },
   "outputs": [],
   "source": [
    "ticker = 'MSFT'"
   ]
  },
  {
   "cell_type": "markdown",
   "metadata": {},
   "source": [
    "# Loading Data\n",
    "## S&P 500"
   ]
  },
  {
   "cell_type": "code",
   "execution_count": 3,
   "metadata": {
    "execution": {
     "iopub.execute_input": "2021-09-07T23:32:10.022420Z",
     "iopub.status.busy": "2021-09-07T23:32:10.022420Z",
     "iopub.status.idle": "2021-09-07T23:32:10.128476Z",
     "shell.execute_reply": "2021-09-07T23:32:10.128476Z",
     "shell.execute_reply.started": "2021-09-07T23:32:10.022420Z"
    },
    "tags": []
   },
   "outputs": [
    {
     "data": {
      "text/html": [
       "<div>\n",
       "<style scoped>\n",
       "    .dataframe tbody tr th:only-of-type {\n",
       "        vertical-align: middle;\n",
       "    }\n",
       "\n",
       "    .dataframe tbody tr th {\n",
       "        vertical-align: top;\n",
       "    }\n",
       "\n",
       "    .dataframe thead th {\n",
       "        text-align: right;\n",
       "    }\n",
       "</style>\n",
       "<table border=\"1\" class=\"dataframe\">\n",
       "  <thead>\n",
       "    <tr style=\"text-align: right;\">\n",
       "      <th></th>\n",
       "      <th>Symbol</th>\n",
       "      <th>Security</th>\n",
       "      <th>SEC filings</th>\n",
       "      <th>GICS Sector</th>\n",
       "      <th>GICS Sub-Industry</th>\n",
       "      <th>Headquarters Location</th>\n",
       "      <th>Date first added</th>\n",
       "      <th>CIK</th>\n",
       "      <th>Founded</th>\n",
       "    </tr>\n",
       "  </thead>\n",
       "  <tbody>\n",
       "    <tr>\n",
       "      <th>0</th>\n",
       "      <td>MMM</td>\n",
       "      <td>3M</td>\n",
       "      <td>reports</td>\n",
       "      <td>Industrials</td>\n",
       "      <td>Industrial Conglomerates</td>\n",
       "      <td>Saint Paul, Minnesota</td>\n",
       "      <td>1976-08-09</td>\n",
       "      <td>66740</td>\n",
       "      <td>1902</td>\n",
       "    </tr>\n",
       "    <tr>\n",
       "      <th>1</th>\n",
       "      <td>ABT</td>\n",
       "      <td>Abbott Laboratories</td>\n",
       "      <td>reports</td>\n",
       "      <td>Health Care</td>\n",
       "      <td>Health Care Equipment</td>\n",
       "      <td>North Chicago, Illinois</td>\n",
       "      <td>1964-03-31</td>\n",
       "      <td>1800</td>\n",
       "      <td>1888</td>\n",
       "    </tr>\n",
       "    <tr>\n",
       "      <th>2</th>\n",
       "      <td>ABBV</td>\n",
       "      <td>AbbVie</td>\n",
       "      <td>reports</td>\n",
       "      <td>Health Care</td>\n",
       "      <td>Pharmaceuticals</td>\n",
       "      <td>North Chicago, Illinois</td>\n",
       "      <td>2012-12-31</td>\n",
       "      <td>1551152</td>\n",
       "      <td>2013 (1888)</td>\n",
       "    </tr>\n",
       "    <tr>\n",
       "      <th>3</th>\n",
       "      <td>ABMD</td>\n",
       "      <td>Abiomed</td>\n",
       "      <td>reports</td>\n",
       "      <td>Health Care</td>\n",
       "      <td>Health Care Equipment</td>\n",
       "      <td>Danvers, Massachusetts</td>\n",
       "      <td>2018-05-31</td>\n",
       "      <td>815094</td>\n",
       "      <td>1981</td>\n",
       "    </tr>\n",
       "    <tr>\n",
       "      <th>4</th>\n",
       "      <td>ACN</td>\n",
       "      <td>Accenture</td>\n",
       "      <td>reports</td>\n",
       "      <td>Information Technology</td>\n",
       "      <td>IT Consulting &amp; Other Services</td>\n",
       "      <td>Dublin, Ireland</td>\n",
       "      <td>2011-07-06</td>\n",
       "      <td>1467373</td>\n",
       "      <td>1989</td>\n",
       "    </tr>\n",
       "  </tbody>\n",
       "</table>\n",
       "</div>"
      ],
      "text/plain": [
       "  Symbol             Security SEC filings             GICS Sector  \\\n",
       "0    MMM                   3M     reports             Industrials   \n",
       "1    ABT  Abbott Laboratories     reports             Health Care   \n",
       "2   ABBV               AbbVie     reports             Health Care   \n",
       "3   ABMD              Abiomed     reports             Health Care   \n",
       "4    ACN            Accenture     reports  Information Technology   \n",
       "\n",
       "                GICS Sub-Industry    Headquarters Location Date first added  \\\n",
       "0        Industrial Conglomerates    Saint Paul, Minnesota       1976-08-09   \n",
       "1           Health Care Equipment  North Chicago, Illinois       1964-03-31   \n",
       "2                 Pharmaceuticals  North Chicago, Illinois       2012-12-31   \n",
       "3           Health Care Equipment   Danvers, Massachusetts       2018-05-31   \n",
       "4  IT Consulting & Other Services          Dublin, Ireland       2011-07-06   \n",
       "\n",
       "       CIK      Founded  \n",
       "0    66740         1902  \n",
       "1     1800         1888  \n",
       "2  1551152  2013 (1888)  \n",
       "3   815094         1981  \n",
       "4  1467373         1989  "
      ]
     },
     "execution_count": 3,
     "metadata": {},
     "output_type": "execute_result"
    }
   ],
   "source": [
    "snp = pd.read_csv('data/sp500.csv')\n",
    "snp.head()"
   ]
  },
  {
   "cell_type": "markdown",
   "metadata": {},
   "source": [
    "## Company Info"
   ]
  },
  {
   "cell_type": "code",
   "execution_count": 4,
   "metadata": {
    "execution": {
     "iopub.execute_input": "2021-09-07T23:32:10.130476Z",
     "iopub.status.busy": "2021-09-07T23:32:10.129476Z",
     "iopub.status.idle": "2021-09-07T23:32:13.239539Z",
     "shell.execute_reply": "2021-09-07T23:32:13.238960Z",
     "shell.execute_reply.started": "2021-09-07T23:32:10.130476Z"
    },
    "tags": []
   },
   "outputs": [
    {
     "data": {
      "text/plain": [
       "dict_keys(['zip', 'sector', 'fullTimeEmployees', 'longBusinessSummary', 'city', 'phone', 'state', 'country', 'companyOfficers', 'website', 'maxAge', 'address1', 'industry', 'ebitdaMargins', 'profitMargins', 'grossMargins', 'operatingCashflow', 'revenueGrowth', 'operatingMargins', 'ebitda', 'targetLowPrice', 'recommendationKey', 'grossProfits', 'freeCashflow', 'targetMedianPrice', 'currentPrice', 'earningsGrowth', 'currentRatio', 'returnOnAssets', 'numberOfAnalystOpinions', 'targetMeanPrice', 'debtToEquity', 'returnOnEquity', 'targetHighPrice', 'totalCash', 'totalDebt', 'totalRevenue', 'totalCashPerShare', 'financialCurrency', 'revenuePerShare', 'quickRatio', 'recommendationMean', 'exchange', 'shortName', 'longName', 'exchangeTimezoneName', 'exchangeTimezoneShortName', 'isEsgPopulated', 'gmtOffSetMilliseconds', 'quoteType', 'symbol', 'messageBoardId', 'market', 'annualHoldingsTurnover', 'enterpriseToRevenue', 'beta3Year', 'enterpriseToEbitda', '52WeekChange', 'morningStarRiskRating', 'forwardEps', 'revenueQuarterlyGrowth', 'sharesOutstanding', 'fundInceptionDate', 'annualReportExpenseRatio', 'totalAssets', 'bookValue', 'sharesShort', 'sharesPercentSharesOut', 'fundFamily', 'lastFiscalYearEnd', 'heldPercentInstitutions', 'netIncomeToCommon', 'trailingEps', 'lastDividendValue', 'SandP52WeekChange', 'priceToBook', 'heldPercentInsiders', 'nextFiscalYearEnd', 'yield', 'mostRecentQuarter', 'shortRatio', 'sharesShortPreviousMonthDate', 'floatShares', 'beta', 'enterpriseValue', 'priceHint', 'threeYearAverageReturn', 'lastSplitDate', 'lastSplitFactor', 'legalType', 'lastDividendDate', 'morningStarOverallRating', 'earningsQuarterlyGrowth', 'priceToSalesTrailing12Months', 'dateShortInterest', 'pegRatio', 'ytdReturn', 'forwardPE', 'lastCapGain', 'shortPercentOfFloat', 'sharesShortPriorMonth', 'impliedSharesOutstanding', 'category', 'fiveYearAverageReturn', 'previousClose', 'regularMarketOpen', 'twoHundredDayAverage', 'trailingAnnualDividendYield', 'payoutRatio', 'volume24Hr', 'regularMarketDayHigh', 'navPrice', 'averageDailyVolume10Day', 'regularMarketPreviousClose', 'fiftyDayAverage', 'trailingAnnualDividendRate', 'open', 'toCurrency', 'averageVolume10days', 'expireDate', 'algorithm', 'dividendRate', 'exDividendDate', 'circulatingSupply', 'startDate', 'regularMarketDayLow', 'currency', 'trailingPE', 'regularMarketVolume', 'lastMarket', 'maxSupply', 'openInterest', 'marketCap', 'volumeAllCurrencies', 'strikePrice', 'averageVolume', 'dayLow', 'ask', 'askSize', 'volume', 'fiftyTwoWeekHigh', 'fromCurrency', 'fiveYearAvgDividendYield', 'fiftyTwoWeekLow', 'bid', 'tradeable', 'dividendYield', 'bidSize', 'dayHigh', 'regularMarketPrice', 'logo_url'])"
      ]
     },
     "execution_count": 4,
     "metadata": {},
     "output_type": "execute_result"
    }
   ],
   "source": [
    "info = yf.Ticker(ticker).info\n",
    "info.keys()"
   ]
  },
  {
   "cell_type": "code",
   "execution_count": 5,
   "metadata": {
    "execution": {
     "iopub.execute_input": "2021-09-07T23:32:13.240596Z",
     "iopub.status.busy": "2021-09-07T23:32:13.240596Z",
     "iopub.status.idle": "2021-09-07T23:32:13.254563Z",
     "shell.execute_reply": "2021-09-07T23:32:13.253562Z",
     "shell.execute_reply.started": "2021-09-07T23:32:13.240596Z"
    },
    "tags": []
   },
   "outputs": [],
   "source": [
    "company = snp[snp.Symbol == ticker].Security.values[0]\n",
    "sector = snp[snp.Symbol == ticker]['GICS Sector'].values[0]\n",
    "industry = snp[snp.Symbol == ticker]['GICS Sub-Industry'].values[0]\n",
    "hq = snp[snp.Symbol == ticker]['Headquarters Location'].values[0]\n",
    "founded = snp[snp.Symbol == ticker].Founded.values[0]\n",
    "marketcap = f\"${info['marketCap']:,}\"\n",
    "website = info['website']\n",
    "description = info['longBusinessSummary']\n",
    "logo = info['logo_url']"
   ]
  },
  {
   "cell_type": "markdown",
   "metadata": {},
   "source": [
    "## Price History"
   ]
  },
  {
   "cell_type": "code",
   "execution_count": 6,
   "metadata": {
    "execution": {
     "iopub.execute_input": "2021-09-07T23:32:13.255561Z",
     "iopub.status.busy": "2021-09-07T23:32:13.255561Z",
     "iopub.status.idle": "2021-09-07T23:32:13.314589Z",
     "shell.execute_reply": "2021-09-07T23:32:13.314589Z",
     "shell.execute_reply.started": "2021-09-07T23:32:13.255561Z"
    },
    "tags": []
   },
   "outputs": [
    {
     "data": {
      "text/html": [
       "<div>\n",
       "<style scoped>\n",
       "    .dataframe tbody tr th:only-of-type {\n",
       "        vertical-align: middle;\n",
       "    }\n",
       "\n",
       "    .dataframe tbody tr th {\n",
       "        vertical-align: top;\n",
       "    }\n",
       "\n",
       "    .dataframe thead th {\n",
       "        text-align: right;\n",
       "    }\n",
       "</style>\n",
       "<table border=\"1\" class=\"dataframe\">\n",
       "  <thead>\n",
       "    <tr style=\"text-align: right;\">\n",
       "      <th></th>\n",
       "      <th>Open</th>\n",
       "      <th>High</th>\n",
       "      <th>Low</th>\n",
       "      <th>Close</th>\n",
       "      <th>Adj Close</th>\n",
       "      <th>Volume</th>\n",
       "    </tr>\n",
       "    <tr>\n",
       "      <th>Date</th>\n",
       "      <th></th>\n",
       "      <th></th>\n",
       "      <th></th>\n",
       "      <th></th>\n",
       "      <th></th>\n",
       "      <th></th>\n",
       "    </tr>\n",
       "  </thead>\n",
       "  <tbody>\n",
       "    <tr>\n",
       "      <th>1986-03-13</th>\n",
       "      <td>0.088542</td>\n",
       "      <td>0.101563</td>\n",
       "      <td>0.088542</td>\n",
       "      <td>0.097222</td>\n",
       "      <td>0.061491</td>\n",
       "      <td>1.031789e+09</td>\n",
       "    </tr>\n",
       "    <tr>\n",
       "      <th>1986-03-14</th>\n",
       "      <td>0.097222</td>\n",
       "      <td>0.102431</td>\n",
       "      <td>0.097222</td>\n",
       "      <td>0.100694</td>\n",
       "      <td>0.063687</td>\n",
       "      <td>3.081600e+08</td>\n",
       "    </tr>\n",
       "    <tr>\n",
       "      <th>1986-03-17</th>\n",
       "      <td>0.100694</td>\n",
       "      <td>0.103299</td>\n",
       "      <td>0.100694</td>\n",
       "      <td>0.102431</td>\n",
       "      <td>0.064785</td>\n",
       "      <td>1.331712e+08</td>\n",
       "    </tr>\n",
       "    <tr>\n",
       "      <th>1986-03-18</th>\n",
       "      <td>0.102431</td>\n",
       "      <td>0.103299</td>\n",
       "      <td>0.098958</td>\n",
       "      <td>0.099826</td>\n",
       "      <td>0.063138</td>\n",
       "      <td>6.776640e+07</td>\n",
       "    </tr>\n",
       "    <tr>\n",
       "      <th>1986-03-19</th>\n",
       "      <td>0.099826</td>\n",
       "      <td>0.100694</td>\n",
       "      <td>0.097222</td>\n",
       "      <td>0.098090</td>\n",
       "      <td>0.062040</td>\n",
       "      <td>4.789440e+07</td>\n",
       "    </tr>\n",
       "  </tbody>\n",
       "</table>\n",
       "</div>"
      ],
      "text/plain": [
       "                Open      High       Low     Close  Adj Close        Volume\n",
       "Date                                                                       \n",
       "1986-03-13  0.088542  0.101563  0.088542  0.097222   0.061491  1.031789e+09\n",
       "1986-03-14  0.097222  0.102431  0.097222  0.100694   0.063687  3.081600e+08\n",
       "1986-03-17  0.100694  0.103299  0.100694  0.102431   0.064785  1.331712e+08\n",
       "1986-03-18  0.102431  0.103299  0.098958  0.099826   0.063138  6.776640e+07\n",
       "1986-03-19  0.099826  0.100694  0.097222  0.098090   0.062040  4.789440e+07"
      ]
     },
     "execution_count": 6,
     "metadata": {},
     "output_type": "execute_result"
    }
   ],
   "source": [
    "prices = pd.read_csv(f'data/price_histories/{ticker}_history.csv', index_col='Date')\n",
    "prices.head()"
   ]
  },
  {
   "cell_type": "markdown",
   "metadata": {},
   "source": [
    "## Prebuilt Model"
   ]
  },
  {
   "cell_type": "code",
   "execution_count": 7,
   "metadata": {
    "execution": {
     "iopub.execute_input": "2021-09-07T23:32:13.315560Z",
     "iopub.status.busy": "2021-09-07T23:32:13.315560Z",
     "iopub.status.idle": "2021-09-07T23:32:13.346560Z",
     "shell.execute_reply": "2021-09-07T23:32:13.346560Z",
     "shell.execute_reply.started": "2021-09-07T23:32:13.315560Z"
    },
    "tags": []
   },
   "outputs": [],
   "source": [
    "data_full = pd.read_csv(f'data/preprocessed_data/{ticker}_preprocessed.csv')\n",
    "data = data_full.drop(columns=['Report Date', 'Price Date', 'Open', 'High', 'Low', 'Adj Close', 'Volume'])\n",
    "data.columns = [col.replace('.', '') for col in data.columns]\n",
    "X = data.drop(columns=['Close'])\n",
    "y = data.Close"
   ]
  },
  {
   "cell_type": "code",
   "execution_count": 8,
   "metadata": {
    "execution": {
     "iopub.execute_input": "2021-09-07T23:32:13.348561Z",
     "iopub.status.busy": "2021-09-07T23:32:13.348561Z",
     "iopub.status.idle": "2021-09-07T23:32:13.890069Z",
     "shell.execute_reply": "2021-09-07T23:32:13.889098Z",
     "shell.execute_reply.started": "2021-09-07T23:32:13.348561Z"
    },
    "tags": []
   },
   "outputs": [
    {
     "data": {
      "text/plain": [
       "xgboost.sklearn.XGBRFRegressor"
      ]
     },
     "execution_count": 8,
     "metadata": {},
     "output_type": "execute_result"
    }
   ],
   "source": [
    "model = joblib.load(f'models/{ticker}_model.joblib')\n",
    "type(model)"
   ]
  },
  {
   "cell_type": "code",
   "execution_count": 9,
   "metadata": {
    "execution": {
     "iopub.execute_input": "2021-09-07T23:32:13.891069Z",
     "iopub.status.busy": "2021-09-07T23:32:13.891069Z",
     "iopub.status.idle": "2021-09-07T23:32:13.921073Z",
     "shell.execute_reply": "2021-09-07T23:32:13.921073Z",
     "shell.execute_reply.started": "2021-09-07T23:32:13.891069Z"
    },
    "tags": []
   },
   "outputs": [
    {
     "data": {
      "text/plain": [
       "XGBRFRegressor(base_score=0.5, booster='gbtree', colsample_bylevel=0.2,\n",
       "               colsample_bytree=0.2, gamma=50, gpu_id=-1,\n",
       "               importance_type='gain', interaction_constraints='',\n",
       "               learning_rate=0.5, max_delta_step=0, max_depth=4,\n",
       "               min_child_weight=1, missing=nan, monotone_constraints='()',\n",
       "               n_estimators=100, n_jobs=0, num_parallel_tree=100,\n",
       "               objective='reg:squarederror', random_state=42, reg_alpha=0,\n",
       "               scale_pos_weight=1, tree_method='exact', validate_parameters=1,\n",
       "               verbosity=None)"
      ]
     },
     "execution_count": 9,
     "metadata": {},
     "output_type": "execute_result"
    }
   ],
   "source": [
    "model"
   ]
  },
  {
   "cell_type": "markdown",
   "metadata": {},
   "source": [
    "# Setting Explainer"
   ]
  },
  {
   "cell_type": "code",
   "execution_count": 10,
   "metadata": {
    "execution": {
     "iopub.execute_input": "2021-09-07T23:32:13.922102Z",
     "iopub.status.busy": "2021-09-07T23:32:13.922102Z",
     "iopub.status.idle": "2021-09-07T23:32:13.998104Z",
     "shell.execute_reply": "2021-09-07T23:32:13.998104Z",
     "shell.execute_reply.started": "2021-09-07T23:32:13.922102Z"
    },
    "tags": []
   },
   "outputs": [
    {
     "name": "stdout",
     "output_type": "stream",
     "text": [
      "Generating self.shap_explainer = shap.TreeExplainer(model)\n"
     ]
    }
   ],
   "source": [
    "explainer = RegressionExplainer(model, X, y, shap='tree')"
   ]
  },
  {
   "cell_type": "markdown",
   "metadata": {},
   "source": [
    "# Customizing Layout"
   ]
  },
  {
   "cell_type": "markdown",
   "metadata": {},
   "source": [
    "## Overview Tab"
   ]
  },
  {
   "cell_type": "code",
   "execution_count": 11,
   "metadata": {
    "execution": {
     "iopub.execute_input": "2021-09-07T23:32:13.999101Z",
     "iopub.status.busy": "2021-09-07T23:32:13.999101Z",
     "iopub.status.idle": "2021-09-07T23:32:14.013104Z",
     "shell.execute_reply": "2021-09-07T23:32:14.013104Z",
     "shell.execute_reply.started": "2021-09-07T23:32:13.999101Z"
    },
    "tags": []
   },
   "outputs": [],
   "source": [
    "class OverviewTab(ExplainerComponent):\n",
    "    def __init__(self, explainer, name=None, **kwargs):\n",
    "        super().__init__(explainer, title='Overview')\n",
    "        \n",
    "    def layout(self):\n",
    "        return dbc.Container(\n",
    "            children=[\n",
    "                dbc.Row([\n",
    "                    dbc.Col([\n",
    "                        html.Div([\n",
    "                            html.Img(\n",
    "                                src=logo, \n",
    "                                style={'display': 'inline',\n",
    "                                       'vertical-align': 'middle',\n",
    "                                       'height': '3rem',\n",
    "                                       'width': '3rem'}\n",
    "                            ),\n",
    "                            html.H1(\n",
    "                                children=html.B(f'{company} ({ticker})'),\n",
    "                                style={'display': 'inline',\n",
    "                                       'vertical-align': 'middle',\n",
    "                                       'height': '3rem',\n",
    "                                       'width': '3rem',\n",
    "                                       'marginLeft': '20px'}\n",
    "                            )\n",
    "                        ]),\n",
    "                        html.Hr(),\n",
    "                        html.Table(\n",
    "                            children=[\n",
    "                                html.Tr([\n",
    "                                    html.Td(html.B('Sector:')),\n",
    "                                    html.Td(sector),\n",
    "                                    html.Td(html.B('Headquarters:')),\n",
    "                                    html.Td(hq),\n",
    "                                    html.Td(html.B('Market Cap:')),\n",
    "                                    html.Td(marketcap)\n",
    "                                ]),\n",
    "                                html.Tr([\n",
    "                                    html.Td(html.B('Industry:')),\n",
    "                                    html.Td(industry),\n",
    "                                    html.Td(html.B('Founded:')),\n",
    "                                    html.Td(founded),\n",
    "                                    html.Td(html.B('Website:')),\n",
    "                                    html.Td(html.A(website, href=website, target='_blank'))\n",
    "                                ])\n",
    "                            ], \n",
    "                            style={'border-collapse': 'separate', \n",
    "                                   'border-spacing': '20px 5px',\n",
    "                                   'margin-left': '-20px'}\n",
    "                        ),\n",
    "                        html.Br()\n",
    "                    ])\n",
    "                ]),\n",
    "                dbc.Row([\n",
    "                    dbc.Col([\n",
    "                        html.H4(html.B('Description')),\n",
    "                        html.P(description),\n",
    "                        html.Br()\n",
    "                    ])\n",
    "                ]),\n",
    "                dbc.Row([\n",
    "                    dbc.Col([\n",
    "                        html.H4(html.B('Price History')),\n",
    "                        dcc.Graph(\n",
    "                            id='price_history_graph',\n",
    "                            figure={\n",
    "                                'data': [{\n",
    "                                    'x': prices.index, \n",
    "                                    'y': prices.Close, \n",
    "                                    'type': 'line'\n",
    "                                }],\n",
    "                                'layout': {\n",
    "                                    'margin': dict(t=10),\n",
    "                                    'xaxis': dict(title='Year'),\n",
    "                                    'yaxis': dict(title='Price per Share',\n",
    "                                                  tickprefix='$')\n",
    "                                }\n",
    "                            },\n",
    "                            config={'displayModeBar': False}\n",
    "                        )\n",
    "                    ])\n",
    "                ])\n",
    "            ],\n",
    "            style={'marginTop': '25px'}\n",
    "        )"
   ]
  },
  {
   "cell_type": "markdown",
   "metadata": {},
   "source": [
    "## Features Tab"
   ]
  },
  {
   "cell_type": "code",
   "execution_count": 12,
   "metadata": {
    "execution": {
     "iopub.execute_input": "2021-09-07T23:32:14.015070Z",
     "iopub.status.busy": "2021-09-07T23:32:14.014072Z",
     "iopub.status.idle": "2021-09-07T23:32:14.030070Z",
     "shell.execute_reply": "2021-09-07T23:32:14.029106Z",
     "shell.execute_reply.started": "2021-09-07T23:32:14.014072Z"
    },
    "tags": []
   },
   "outputs": [],
   "source": [
    "class FeaturesTab(ExplainerComponent):\n",
    "    def __init__(self, explainer, name=None, **kwargs):\n",
    "        super().__init__(explainer, title='Features')\n",
    "        \n",
    "    def component_callbacks(self, app, **kwargs):\n",
    "        @app.callback(\n",
    "            Output('feature_graph', 'figure'),\n",
    "            Input('feature_explorer_dropdown', 'value')\n",
    "        )\n",
    "        def update_graph(value):\n",
    "            return {\n",
    "                'data': [{\n",
    "                    'x': data_full['Report Date'],\n",
    "                    'y': data_full[value],\n",
    "                    'type': 'bar'\n",
    "                }],\n",
    "                'layout': {\n",
    "                    'margin': dict(t=25),\n",
    "                    'xaxis': dict(title='Year'),\n",
    "                    'yaxis': dict(title='Value (USD)',\n",
    "                                  tickprefix='$')\n",
    "                }\n",
    "            }\n",
    "    \n",
    "    def layout(self):\n",
    "        return dbc.Container(\n",
    "            children=[\n",
    "                dbc.Row([\n",
    "                    dbc.Col([\n",
    "                        html.Div([\n",
    "                            html.Img(\n",
    "                                src=logo, \n",
    "                                style={'display': 'inline',\n",
    "                                       'vertical-align': 'middle',\n",
    "                                       'height': '3rem',\n",
    "                                       'width': '3rem'}\n",
    "                            ),\n",
    "                            html.H1(\n",
    "                                children=html.B(f'{company} ({ticker})'),\n",
    "                                style={'display': 'inline',\n",
    "                                       'vertical-align': 'middle',\n",
    "                                       'height': '3rem',\n",
    "                                       'width': '3rem',\n",
    "                                       'marginLeft': '20px'}\n",
    "                            )\n",
    "                        ]),\n",
    "                        html.Hr(),\n",
    "                    ])\n",
    "                ]),\n",
    "                dbc.Row([\n",
    "                    dbc.Col([html.H4(html.B('Feature Explorer'))]),\n",
    "                    dbc.Col([\n",
    "                        dcc.Dropdown(id='feature_explorer_dropdown', \n",
    "                                     options=[{'label': col, 'value': col} for col in X.columns],\n",
    "                                     value='Total Assets',\n",
    "                                     multi=False)\n",
    "                    ])\n",
    "                ]),\n",
    "                dbc.Row([\n",
    "                    dbc.Col([\n",
    "                        dcc.Graph(id='feature_graph', \n",
    "                                  config={'displayModeBar': False})\n",
    "                    ])\n",
    "                ])\n",
    "            ],\n",
    "            style={'marginTop': '25px'}\n",
    "        )"
   ]
  },
  {
   "cell_type": "markdown",
   "metadata": {},
   "source": [
    "## SHAP Tab"
   ]
  },
  {
   "cell_type": "code",
   "execution_count": 13,
   "metadata": {
    "execution": {
     "iopub.execute_input": "2021-09-07T23:32:14.031072Z",
     "iopub.status.busy": "2021-09-07T23:32:14.030070Z",
     "iopub.status.idle": "2021-09-07T23:32:14.045070Z",
     "shell.execute_reply": "2021-09-07T23:32:14.045070Z",
     "shell.execute_reply.started": "2021-09-07T23:32:14.031072Z"
    },
    "tags": []
   },
   "outputs": [],
   "source": [
    "class SHAPTab(ExplainerComponent):\n",
    "    def __init__(self, explainer, name=None, **kwargs):\n",
    "        super().__init__(explainer, title='SHAP Analysis')\n",
    "        \n",
    "        self.feat_imps = ImportancesComponent(\n",
    "                             explainer,\n",
    "                             depth=15,\n",
    "                             no_permutations=True,\n",
    "                             hide_popout=True\n",
    "                         )\n",
    "        \n",
    "        self.depend = ShapDependenceComponent(\n",
    "                             explainer, \n",
    "                             hide_popout=True,\n",
    "                             hide_outliers=True,\n",
    "                             hide_footer=True,\n",
    "                             hide_index=True\n",
    "                         )\n",
    "        \n",
    "        self.interaction = InteractionSummaryComponent(\n",
    "                             explainer,\n",
    "                             hide_popout=True,\n",
    "                             hide_type=True,\n",
    "                             depth=10\n",
    "                         )\n",
    "        \n",
    "        self.inter_plot = InteractionDependenceComponent(\n",
    "                             explainer,\n",
    "                             hide_popout=True,\n",
    "                             hide_index=True,\n",
    "                         )\n",
    "    \n",
    "    def layout(self):\n",
    "        return dbc.Container(\n",
    "            children=[\n",
    "                dbc.Row([\n",
    "                    dbc.Col([\n",
    "                        html.Div([\n",
    "                            html.Img(\n",
    "                                src=logo, \n",
    "                                style={'display': 'inline',\n",
    "                                       'vertical-align': 'middle',\n",
    "                                       'height': '3rem',\n",
    "                                       'width': '3rem'}\n",
    "                            ),\n",
    "                            html.H1(\n",
    "                                children=html.B(f'{company} ({ticker})'),\n",
    "                                style={'display': 'inline',\n",
    "                                       'vertical-align': 'middle',\n",
    "                                       'height': '3rem',\n",
    "                                       'width': '3rem',\n",
    "                                       'marginLeft': '20px'}\n",
    "                            )\n",
    "                        ]),\n",
    "                        html.Hr(),\n",
    "                    ])\n",
    "                ]),\n",
    "                dbc.Row([dbc.Col([self.feat_imps.layout()])]),\n",
    "                html.Br(),\n",
    "                dbc.Row([dbc.Col([self.depend.layout()])]),\n",
    "                html.Br(),\n",
    "                dbc.Row([dbc.Col([self.interaction.layout()])]),\n",
    "                html.Br(),\n",
    "                dbc.Row([dbc.Col([self.inter_plot.layout()])]),\n",
    "                html.Br()\n",
    "            ],\n",
    "            style={'marginTop': '25px'}\n",
    "        )"
   ]
  },
  {
   "cell_type": "markdown",
   "metadata": {},
   "source": [
    "# Running the Dashboard"
   ]
  },
  {
   "cell_type": "code",
   "execution_count": 15,
   "metadata": {
    "execution": {
     "iopub.execute_input": "2021-09-07T23:32:42.410374Z",
     "iopub.status.busy": "2021-09-07T23:32:42.410374Z",
     "iopub.status.idle": "2021-09-07T23:32:44.338808Z",
     "shell.execute_reply": "2021-09-07T23:32:44.338808Z",
     "shell.execute_reply.started": "2021-09-07T23:32:42.410374Z"
    },
    "tags": []
   },
   "outputs": [
    {
     "name": "stdout",
     "output_type": "stream",
     "text": [
      "Building ExplainerDashboard..\n",
      "Detected notebook environment, consider setting mode='external', mode='inline' or mode='jupyterlab' to keep the notebook interactive while the dashboard is running...\n",
      "Generating layout...\n",
      "Calculating dependencies...\n",
      "Reminder: you can store the explainer (including calculated dependencies) with explainer.dump('explainer.joblib') and reload with e.g. ClassifierExplainer.from_file('explainer.joblib')\n",
      "Registering callbacks...\n",
      "Starting ExplainerDashboard on http://74.129.178.98:8050\n",
      "Dash is running on http://0.0.0.0:8050/\n",
      "\n",
      "Dash is running on http://0.0.0.0:8050/\n",
      "\n",
      " * Serving Flask app 'explainerdashboard.dashboards' (lazy loading)\n",
      " * Environment: production\n",
      "   WARNING: This is a development server. Do not use it in a production deployment.\n",
      "   Use a production WSGI server instead.\n",
      " * Debug mode: off\n"
     ]
    },
    {
     "name": "stderr",
     "output_type": "stream",
     "text": [
      " * Running on all addresses.\n",
      "   WARNING: This is a development server. Do not use it in a production deployment.\n",
      " * Running on http://74.129.178.98:8050/ (Press CTRL+C to quit)\n"
     ]
    }
   ],
   "source": [
    "db = ExplainerDashboard(explainer,\n",
    "                        tabs=[OverviewTab, FeaturesTab, SHAPTab],\n",
    "                        title='Stock KPIs',\n",
    "                        description='',\n",
    "                        bootstrap=dbc.themes.SANDSTONE,\n",
    "                        fluid=False,\n",
    "                        header_hide_download=True,\n",
    "                        hide_poweredby=True)\n",
    "\n",
    "db.run(port=8050)"
   ]
  }
 ],
 "metadata": {
  "kernelspec": {
   "display_name": "learn-env",
   "language": "python",
   "name": "learn-env"
  },
  "language_info": {
   "codemirror_mode": {
    "name": "ipython",
    "version": 3
   },
   "file_extension": ".py",
   "mimetype": "text/x-python",
   "name": "python",
   "nbconvert_exporter": "python",
   "pygments_lexer": "ipython3",
   "version": "3.8.5"
  }
 },
 "nbformat": 4,
 "nbformat_minor": 4
}
